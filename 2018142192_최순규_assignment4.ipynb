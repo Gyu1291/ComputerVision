{
 "cells": [
  {
   "cell_type": "markdown",
   "metadata": {
    "id": "lrDSWyfhxpD7"
   },
   "source": [
    "#**MNIST Classification Task**"
   ]
  },
  {
   "cell_type": "markdown",
   "metadata": {
    "id": "HgOKLGd0aeUN"
   },
   "source": [
    "**시작 전 [런타임] > [런타임 유형 변경] > [하드웨어 가속기] > [GPU] 선택**"
   ]
  },
  {
   "cell_type": "markdown",
   "metadata": {
    "id": "k8-QW_j0wPuw"
   },
   "source": [
    "<a title=\"By Josef Steppan [CC BY-SA 4.0 (https://creativecommons.org/licenses/by-sa/4.0)], from Wikimedia Commons\" href=\"https://commons.wikimedia.org/wiki/File:MnistExamples.png\"><img width=\"512\" alt=\"MnistExamples\" src=\"https://upload.wikimedia.org/wikipedia/commons/2/27/MnistExamples.png\"/></a>\n",
    "[MNIST Examples]"
   ]
  },
  {
   "cell_type": "code",
   "execution_count": 1,
   "metadata": {
    "executionInfo": {
     "elapsed": 4933,
     "status": "ok",
     "timestamp": 1633533884431,
     "user": {
      "displayName": "규",
      "photoUrl": "https://lh3.googleusercontent.com/a/default-user=s64",
      "userId": "10356754072138524849"
     },
     "user_tz": -540
    },
    "id": "I88T8ngIwPuz"
   },
   "outputs": [],
   "source": [
    "# Import required libraries\n",
    "\n",
    "from __future__ import print_function\n",
    "import argparse\n",
    "import torch\n",
    "import torch.nn as nn\n",
    "import torch.nn.functional as F\n",
    "import torch.optim as optim\n",
    "import torchvision\n",
    "import matplotlib.pyplot as plt\n",
    "import numpy as np\n",
    "import cv2\n",
    "from torchvision import datasets, transforms\n",
    "from torch.autograd import Variable\n"
   ]
  },
  {
   "cell_type": "code",
   "execution_count": 2,
   "metadata": {
    "executionInfo": {
     "elapsed": 246,
     "status": "ok",
     "timestamp": 1633533887899,
     "user": {
      "displayName": "규",
      "photoUrl": "https://lh3.googleusercontent.com/a/default-user=s64",
      "userId": "10356754072138524849"
     },
     "user_tz": -540
    },
    "id": "WK-TZqYFwPu0"
   },
   "outputs": [],
   "source": [
    "# Variables\n",
    "\n",
    "args = {}\n",
    "kwargs = {}\n",
    "args['batch_size'] = 1000 # Batch size -> train할 때 한번에 네트워크가 처리할 수 있는 샘플 수가 몇 개인가?\n",
    "args['test_batch_size'] = 1000 # Test batch size -> test할 때 \"\"\n",
    "args['epochs'] = 10  # The number of epochs is the number of times you go through the full dataset.\n",
    "args['lr'] = 0.01 # Learning rate is how fast it will decend.\n",
    "\n",
    "args['seed'] = 1 # random seed\n",
    "args['log_interval'] = 10 # log interval\n",
    "args['cuda'] = True # GPU cuda enable\n"
   ]
  },
  {
   "cell_type": "code",
   "execution_count": 3,
   "metadata": {
    "colab": {
     "base_uri": "https://localhost:8080/",
     "height": 492,
     "referenced_widgets": [
      "67a097846fef4e69ba62c8be0b4fce9b",
      "1c3f7c7ea57e40329bc98128e9f47146",
      "a7afdd6031294854bdb6370a55249e6a",
      "b554a501b06d43918f72496f159526d7",
      "b2012c476760472ab319779f3d77b255",
      "b36b63f4d95c403e98a0ea5fe53a7593",
      "4cb2bf63ad84498d967ca00f31e0c087",
      "8b1bd2c80fce44b293e95dc940e831de",
      "b70ee08eb94c4381a1ff4b23b2c7a67f",
      "371fc706dca24eae9753acb6f52751fc",
      "afe3198e69c44dda8a493a14b615868a",
      "9c52dbacb2ec4c9fbb6159f339c9b446",
      "0cb293c5d06643aea53023b3972ff3f5",
      "b74c46bfab6c4b29a350f6ad98c1b3d9",
      "df02c0d60d594cbb89199f40dfd74320",
      "62879e1033f2422c9ab8b8cf1f5cb6ab",
      "a439824461fe4f4ebf6c17bac4e2ae7d",
      "750e9c53cc6d4749ae21c7176fe948f4",
      "79863d9013ed4445820ede817092c2ca",
      "c7cd3d6510c04a88a544c5818f95ef5b",
      "f14bcd0c6c1045fab35a304fcc8b4a95",
      "f7b88c5f38f04a70a82004baf104a5cc",
      "c80d755c8f114646a572c49ccb882171",
      "a95320b2c2404ce0a285155d713bd776",
      "a1bf0daa0947471598f57ea7f8446bd5",
      "5a3690e8c6544917a9068dd7807cb2e8",
      "7384933e61ff4be297210603c698f962",
      "eb805a2997184c9b91544aa03efce219",
      "ec75c62dbad84bcaa63e2370317ee1ff",
      "2fc12215b7cd44d8b8ab0eb05ac17398",
      "78eebaa677544f959b2daa67c79dc306",
      "b7d9f7727330407baf5882500c87d14d",
      "f5e648d363b445708024243848d09654",
      "83d7af0f6de943709a1ee96818d3e7c1",
      "9193e039b51f41d79cf7b4747e0f4583",
      "ce5dd2bb3c5a488eb6adbd934164c881",
      "74cb0db260b549df8225c36a70be5442",
      "31b1b65513a742a39a1bef281c3c214d",
      "179018071b0a402a9a4f9242a624446a",
      "46555925eb114a7db7072ee97814600e",
      "3a0ec918b1134d7ebfd8cbab625a31af",
      "8efb0cc44da84c68ac82997fc7741be9",
      "b68e458171bb4f1db6f889321423ba85",
      "923628b89de1419c8cfddfe0497cd331"
     ]
    },
    "executionInfo": {
     "elapsed": 1486,
     "status": "ok",
     "timestamp": 1633533892093,
     "user": {
      "displayName": "규",
      "photoUrl": "https://lh3.googleusercontent.com/a/default-user=s64",
      "userId": "10356754072138524849"
     },
     "user_tz": -540
    },
    "id": "Ne0OKE2DwPu0",
    "outputId": "8950a5f5-99d0-4209-aca1-124fd598c831"
   },
   "outputs": [
    {
     "name": "stdout",
     "output_type": "stream",
     "text": [
      "Downloading http://yann.lecun.com/exdb/mnist/train-images-idx3-ubyte.gz\n",
      "Downloading http://yann.lecun.com/exdb/mnist/train-images-idx3-ubyte.gz to ../data/MNIST/raw/train-images-idx3-ubyte.gz\n"
     ]
    },
    {
     "data": {
      "application/vnd.jupyter.widget-view+json": {
       "model_id": "67a097846fef4e69ba62c8be0b4fce9b",
       "version_major": 2,
       "version_minor": 0
      },
      "text/plain": [
       "  0%|          | 0/9912422 [00:00<?, ?it/s]"
      ]
     },
     "metadata": {},
     "output_type": "display_data"
    },
    {
     "name": "stdout",
     "output_type": "stream",
     "text": [
      "Extracting ../data/MNIST/raw/train-images-idx3-ubyte.gz to ../data/MNIST/raw\n",
      "\n",
      "Downloading http://yann.lecun.com/exdb/mnist/train-labels-idx1-ubyte.gz\n",
      "Downloading http://yann.lecun.com/exdb/mnist/train-labels-idx1-ubyte.gz to ../data/MNIST/raw/train-labels-idx1-ubyte.gz\n"
     ]
    },
    {
     "data": {
      "application/vnd.jupyter.widget-view+json": {
       "model_id": "9c52dbacb2ec4c9fbb6159f339c9b446",
       "version_major": 2,
       "version_minor": 0
      },
      "text/plain": [
       "  0%|          | 0/28881 [00:00<?, ?it/s]"
      ]
     },
     "metadata": {},
     "output_type": "display_data"
    },
    {
     "name": "stdout",
     "output_type": "stream",
     "text": [
      "Extracting ../data/MNIST/raw/train-labels-idx1-ubyte.gz to ../data/MNIST/raw\n",
      "\n",
      "Downloading http://yann.lecun.com/exdb/mnist/t10k-images-idx3-ubyte.gz\n",
      "Downloading http://yann.lecun.com/exdb/mnist/t10k-images-idx3-ubyte.gz to ../data/MNIST/raw/t10k-images-idx3-ubyte.gz\n"
     ]
    },
    {
     "data": {
      "application/vnd.jupyter.widget-view+json": {
       "model_id": "c80d755c8f114646a572c49ccb882171",
       "version_major": 2,
       "version_minor": 0
      },
      "text/plain": [
       "  0%|          | 0/1648877 [00:00<?, ?it/s]"
      ]
     },
     "metadata": {},
     "output_type": "display_data"
    },
    {
     "name": "stdout",
     "output_type": "stream",
     "text": [
      "Extracting ../data/MNIST/raw/t10k-images-idx3-ubyte.gz to ../data/MNIST/raw\n",
      "\n",
      "Downloading http://yann.lecun.com/exdb/mnist/t10k-labels-idx1-ubyte.gz\n",
      "Downloading http://yann.lecun.com/exdb/mnist/t10k-labels-idx1-ubyte.gz to ../data/MNIST/raw/t10k-labels-idx1-ubyte.gz\n"
     ]
    },
    {
     "data": {
      "application/vnd.jupyter.widget-view+json": {
       "model_id": "83d7af0f6de943709a1ee96818d3e7c1",
       "version_major": 2,
       "version_minor": 0
      },
      "text/plain": [
       "  0%|          | 0/4542 [00:00<?, ?it/s]"
      ]
     },
     "metadata": {},
     "output_type": "display_data"
    },
    {
     "name": "stdout",
     "output_type": "stream",
     "text": [
      "Extracting ../data/MNIST/raw/t10k-labels-idx1-ubyte.gz to ../data/MNIST/raw\n",
      "\n"
     ]
    },
    {
     "name": "stderr",
     "output_type": "stream",
     "text": [
      "/usr/local/lib/python3.7/dist-packages/torchvision/datasets/mnist.py:498: UserWarning: The given NumPy array is not writeable, and PyTorch does not support non-writeable tensors. This means you can write to the underlying (supposedly non-writeable) NumPy array using the tensor. You may want to copy the array to protect its data or make it writeable before converting it to a tensor. This type of warning will be suppressed for the rest of this program. (Triggered internally at  /pytorch/torch/csrc/utils/tensor_numpy.cpp:180.)\n",
      "  return torch.from_numpy(parsed.astype(m[2], copy=False)).view(*s)\n"
     ]
    }
   ],
   "source": [
    "# Load the MNIST data\n",
    "\n",
    "# Train loader\n",
    "train_loader = torch.utils.data.DataLoader(\n",
    "    datasets.MNIST('../data', train=True, download=True,\n",
    "                   transform=transforms.Compose([\n",
    "                       transforms.Resize((32, 32)),\n",
    "                       transforms.ToTensor(),\n",
    "                       transforms.Normalize((0.,), (1.,))\n",
    "                   ])),\n",
    "    batch_size=args['batch_size'], shuffle=True, **kwargs)\n",
    "\n",
    "# Test loader\n",
    "test_loader = torch.utils.data.DataLoader(\n",
    "    datasets.MNIST('../data', train=False, transform=transforms.Compose([\n",
    "                       transforms.Resize((32, 32)),\n",
    "                       transforms.ToTensor(),\n",
    "                       transforms.Normalize((0.,), (1.,))\n",
    "                   ])),\n",
    "    batch_size=args['test_batch_size'], shuffle=True, **kwargs)\n"
   ]
  },
  {
   "cell_type": "code",
   "execution_count": 4,
   "metadata": {
    "executionInfo": {
     "elapsed": 7,
     "status": "ok",
     "timestamp": 1633533894309,
     "user": {
      "displayName": "규",
      "photoUrl": "https://lh3.googleusercontent.com/a/default-user=s64",
      "userId": "10356754072138524849"
     },
     "user_tz": -540
    },
    "id": "kXM8BWHAwGCZ"
   },
   "outputs": [],
   "source": [
    "# Network architecture\n",
    "\n",
    "class Net(nn.Module):\n",
    "    # Define the structure of CNN.\n",
    "\n",
    "    def __init__(self):\n",
    "        super(Net, self).__init__()\n",
    "        self.conv1 = nn.Conv2d(1, 10, kernel_size = 5)\n",
    "        self.conv2 = nn.Conv2d(10, 20, kernel_size = 5)\n",
    "        self.fc1 = nn.Linear(500, 50)\n",
    "        self.fc2 = nn.Linear(50, 10)\n",
    "\n",
    "    def forward(self, x):\n",
    "        # Convolution Layer > Activation Layer > Pooling Layer\n",
    "        x = F.max_pool2d(F.relu(self.conv1(x)), 2)\n",
    "\n",
    "        # Convolution Layer > Activation Layer > Pooling Layer\n",
    "        x = F.max_pool2d(F.relu(self.conv2(x)), 2)\n",
    "        x = x.view(-1, 500)\n",
    "\n",
    "        # Fully Connected Layer > Activation Layer\n",
    "        x = F.relu(self.fc1(x))\n",
    "\n",
    "        # Fully Connected Layer > Activation Layer\n",
    "        x = self.fc2(x)\n",
    "\n",
    "        # Softmax gets probabilities.\n",
    "        return F.log_softmax(x, dim=1)\n"
   ]
  },
  {
   "cell_type": "markdown",
   "metadata": {
    "id": "HoZ7LJ5AC84G"
   },
   "source": [
    "#**Assignment 2-1**\n",
    "\n",
    "**LeNet5 모델 구현하기**\n",
    "\n",
    "*   아래 ***class LeNet*** 안에 LeNet-5 코드 구현하기.\n",
    "*   다음 components들을 활용할 것: ***nn.Conv2d***, ***nn.Linear***, ***torch.tanh***, ***F.avg_pool_2d***, ***F.log_softmax***\n",
    "\n",
    "\\\n",
    "\n",
    "![LeNet-5.jpg](data:image/jpeg;base64,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)\n"
   ]
  },
  {
   "cell_type": "code",
   "execution_count": 5,
   "metadata": {
    "executionInfo": {
     "elapsed": 263,
     "status": "ok",
     "timestamp": 1633533909544,
     "user": {
      "displayName": "규",
      "photoUrl": "https://lh3.googleusercontent.com/a/default-user=s64",
      "userId": "10356754072138524849"
     },
     "user_tz": -540
    },
    "id": "xFM_hzI-PBaC"
   },
   "outputs": [],
   "source": [
    "### Implement your code ###\n",
    "\n",
    "class LeNet(nn.Module):\n",
    "    # Define the structure of the LeNet\n",
    "\n",
    "    def __init__(self):\n",
    "        super(LeNet, self).__init__()\n",
    "        self.conv1=nn.Conv2d(1,6,kernel_size=5) #LeNet에서는 3번의 cross correlation연산이 일어난다 \n",
    "        self.conv2=nn.Conv2d(6,16,kernel_size=5)\n",
    "        self.conv3=nn.Conv2d(16,120, kernel_size=5)\n",
    "\n",
    "        self.fc1=nn.Linear(120,84) #두 번의 Fully-connected-layer연산이 진행된다\n",
    "        self.fc2=nn.Linear(84,10)\n",
    "\n",
    "    def forward(self, x): #LeNet은 C1부터 F6까지의 각 단계에서 tanh를 활성화함수로 사용한다.\n",
    "        x=F.avg_pool2d(torch.tanh(self.conv1(x)),2,2) #C1,S2 단계: 32x32 input에 convolution을 적용하고 sampling 시행\n",
    "\n",
    "        x=F.avg_pool2d(torch.tanh(self.conv2(x)),2,2) #C3,S4: 6@14x14에 conv2를 적용하고 sampling 시행\n",
    "        x=torch.tanh(self.conv3(x)) # x에 conv3을 적용함과 동시에 활성화함수를 사용해준다.\n",
    "        \n",
    "        x=x.view(-1,120) #C5 : 위에까지 계산된 x를 1x120으로 reshaping해준다.\n",
    "\n",
    "        x=torch.tanh(self.fc1(x)) #F6 : fully-connected-layer을 거치면서 활성화함수를 다시 적용시켜준다.\n",
    "        x=self.fc2(x) #output: fully-connected-layer을 한번 더 거치고 1차원의 output을 만든다\n",
    "\n",
    "        return F.log_softmax(x,dim=1) #그냥 softmax가 아닌 log_softmax와 nll_loss 를 사용한다."
   ]
  },
  {
   "cell_type": "code",
   "execution_count": 6,
   "metadata": {
    "executionInfo": {
     "elapsed": 3,
     "status": "ok",
     "timestamp": 1633533910558,
     "user": {
      "displayName": "규",
      "photoUrl": "https://lh3.googleusercontent.com/a/default-user=s64",
      "userId": "10356754072138524849"
     },
     "user_tz": -540
    },
    "id": "ZRuBxsDb-JCN"
   },
   "outputs": [],
   "source": [
    "# Classes\n",
    "classes = ('0', '1', '2', '3', '4', '5', '6', '7', '8', '9')"
   ]
  },
  {
   "cell_type": "code",
   "execution_count": 7,
   "metadata": {
    "executionInfo": {
     "elapsed": 2,
     "status": "ok",
     "timestamp": 1633533911801,
     "user": {
      "displayName": "규",
      "photoUrl": "https://lh3.googleusercontent.com/a/default-user=s64",
      "userId": "10356754072138524849"
     },
     "user_tz": -540
    },
    "id": "XZN110Zd-Pj1"
   },
   "outputs": [],
   "source": [
    "# Definition of train\n",
    "\n",
    "def train(epoch):\n",
    "    model.train()\n",
    "\n",
    "    for batch_idx, (data, target) in enumerate(train_loader):\n",
    "        # Cuda variable\n",
    "        if args['cuda']:\n",
    "            data, target = data.cuda(), target.cuda() #GPU로 돌리려면 cuda로 변경해주어야함.\n",
    "\n",
    "        # Pytorch variables\n",
    "        data, target = Variable(data), Variable(target)\n",
    "\n",
    "        # zero_grad() will zero out the gradients for this batch.\n",
    "        optimizer.zero_grad()\n",
    "\n",
    "        # The defined model generates the output.\n",
    "        output = model(data)\n",
    "\n",
    "        # Calculate the loss (negative log likelihood loss).\n",
    "        loss = F.nll_loss(output, target)\n",
    "\n",
    "        # Loss backpropagation\n",
    "        loss.backward()\n",
    "\n",
    "        # To do a one-step update on our parameter.\n",
    "        optimizer.step()\n",
    "\n",
    "        # Print out the logs periodically\n",
    "        if batch_idx % args['log_interval'] == 0:\n",
    "            print('Train Epoch: {} [{}/{} ({:.0f}%)]\\tLoss: {:.6f}'.format(\n",
    "                epoch, batch_idx * len(data), len(train_loader.dataset),\n",
    "                100. * batch_idx / len(train_loader), loss.data))\n"
   ]
  },
  {
   "cell_type": "code",
   "execution_count": 8,
   "metadata": {
    "executionInfo": {
     "elapsed": 7,
     "status": "ok",
     "timestamp": 1633533912922,
     "user": {
      "displayName": "규",
      "photoUrl": "https://lh3.googleusercontent.com/a/default-user=s64",
      "userId": "10356754072138524849"
     },
     "user_tz": -540
    },
    "id": "5gRGfUlswPu2"
   },
   "outputs": [],
   "source": [
    "# Definition of test\n",
    "\n",
    "def test(print_class_accuracy):\n",
    "    model.eval() #테스트할때는 이걸 항상 정의를 해주어야 한다.\n",
    "\n",
    "    # Initilize the variables\n",
    "    test_loss = 0\n",
    "    correct = 0\n",
    "    correct_pred = {classname: 0 for classname in classes}\n",
    "    total_pred = {classname: 0 for classname in classes}\n",
    "\n",
    "    # torch.no_grad() for test\n",
    "    with torch.no_grad():\n",
    "      for data, target in test_loader:\n",
    "          # Cuda variable\n",
    "          if args['cuda']:\n",
    "              data, target = data.cuda(), target.cuda()\n",
    "\n",
    "          # The trained model generates the output.\n",
    "          output = model(data)\n",
    "\n",
    "          # Calculates the test loss\n",
    "          test_loss += F.nll_loss(output, target, reduction='sum').data # sum up batch loss\n",
    "\n",
    "          # Get the index of the max log-probability\n",
    "          pred = output.data.max(1, keepdim=True)[1]\n",
    "          correct += pred.eq(target.data.view_as(pred)).long().cpu().sum()\n",
    "\n",
    "          # Calculate the accuracy for each class\n",
    "          for label, prediction in zip(target, pred):\n",
    "            if label == prediction:\n",
    "              correct_pred[classes[label]] += 1\n",
    "            total_pred[classes[label]] += 1\n",
    "\n",
    "      test_loss /= len(test_loader.dataset)\n",
    "\n",
    "      # Print out the logs periodically\n",
    "      print('\\nTest set: Average loss: {:.4f}, Accuracy: {}/{} ({:.0f}%)\\n'.format(\n",
    "          test_loss, correct, len(test_loader.dataset),\n",
    "          100. * correct / len(test_loader.dataset)))\n",
    "      \n",
    "      # Print out the accuracy for each class\n",
    "      if print_class_accuracy == True:\n",
    "        for classname, correct_count in correct_pred.items():\n",
    "          accuracy = 100 * float(correct_count) / total_pred[classname]\n",
    "          print(\"Accuracy for class {:s}: {:d}/{:d} ({:.1f}%)\".format(classname,correct_count,total_pred[classname],accuracy))\n"
   ]
  },
  {
   "cell_type": "code",
   "execution_count": 9,
   "metadata": {
    "executionInfo": {
     "elapsed": 5,
     "status": "ok",
     "timestamp": 1633533913882,
     "user": {
      "displayName": "규",
      "photoUrl": "https://lh3.googleusercontent.com/a/default-user=s64",
      "userId": "10356754072138524849"
     },
     "user_tz": -540
    },
    "id": "R5p5kp8lyzFC"
   },
   "outputs": [],
   "source": [
    "# Select the model\n",
    "\n",
    "#model = Net()\n",
    "model = LeNet() #Lenet의 성능을 테스트 해 볼것이다."
   ]
  },
  {
   "cell_type": "code",
   "execution_count": 10,
   "metadata": {
    "colab": {
     "base_uri": "https://localhost:8080/"
    },
    "executionInfo": {
     "elapsed": 188888,
     "status": "ok",
     "timestamp": 1633534103742,
     "user": {
      "displayName": "규",
      "photoUrl": "https://lh3.googleusercontent.com/a/default-user=s64",
      "userId": "10356754072138524849"
     },
     "user_tz": -540
    },
    "id": "iWXxTwMRwPu3",
    "outputId": "e0a8b77c-d772-4f2c-ea8d-e7315f80a7b1"
   },
   "outputs": [
    {
     "name": "stdout",
     "output_type": "stream",
     "text": [
      "Train Epoch: 1 [0/60000 (0%)]\tLoss: 2.304207\n",
      "Train Epoch: 1 [10000/60000 (17%)]\tLoss: 2.036883\n",
      "Train Epoch: 1 [20000/60000 (33%)]\tLoss: 1.322912\n",
      "Train Epoch: 1 [30000/60000 (50%)]\tLoss: 0.869910\n",
      "Train Epoch: 1 [40000/60000 (67%)]\tLoss: 0.649849\n",
      "Train Epoch: 1 [50000/60000 (83%)]\tLoss: 0.502635\n",
      "\n",
      "Test set: Average loss: 0.4193, Accuracy: 8834/10000 (88%)\n",
      "\n",
      "Train Epoch: 2 [0/60000 (0%)]\tLoss: 0.444255\n",
      "Train Epoch: 2 [10000/60000 (17%)]\tLoss: 0.376225\n",
      "Train Epoch: 2 [20000/60000 (33%)]\tLoss: 0.364878\n",
      "Train Epoch: 2 [30000/60000 (50%)]\tLoss: 0.303373\n",
      "Train Epoch: 2 [40000/60000 (67%)]\tLoss: 0.352427\n",
      "Train Epoch: 2 [50000/60000 (83%)]\tLoss: 0.328808\n",
      "\n",
      "Test set: Average loss: 0.2501, Accuracy: 9276/10000 (93%)\n",
      "\n",
      "Train Epoch: 3 [0/60000 (0%)]\tLoss: 0.278807\n",
      "Train Epoch: 3 [10000/60000 (17%)]\tLoss: 0.227311\n",
      "Train Epoch: 3 [20000/60000 (33%)]\tLoss: 0.280432\n",
      "Train Epoch: 3 [30000/60000 (50%)]\tLoss: 0.248070\n",
      "Train Epoch: 3 [40000/60000 (67%)]\tLoss: 0.186602\n",
      "Train Epoch: 3 [50000/60000 (83%)]\tLoss: 0.208115\n",
      "\n",
      "Test set: Average loss: 0.1787, Accuracy: 9474/10000 (95%)\n",
      "\n",
      "Train Epoch: 4 [0/60000 (0%)]\tLoss: 0.180476\n",
      "Train Epoch: 4 [10000/60000 (17%)]\tLoss: 0.178064\n",
      "Train Epoch: 4 [20000/60000 (33%)]\tLoss: 0.182612\n",
      "Train Epoch: 4 [30000/60000 (50%)]\tLoss: 0.198040\n",
      "Train Epoch: 4 [40000/60000 (67%)]\tLoss: 0.155836\n",
      "Train Epoch: 4 [50000/60000 (83%)]\tLoss: 0.146964\n",
      "\n",
      "Test set: Average loss: 0.1430, Accuracy: 9584/10000 (96%)\n",
      "\n",
      "Train Epoch: 5 [0/60000 (0%)]\tLoss: 0.156276\n",
      "Train Epoch: 5 [10000/60000 (17%)]\tLoss: 0.151562\n",
      "Train Epoch: 5 [20000/60000 (33%)]\tLoss: 0.132857\n",
      "Train Epoch: 5 [30000/60000 (50%)]\tLoss: 0.156189\n",
      "Train Epoch: 5 [40000/60000 (67%)]\tLoss: 0.143196\n",
      "Train Epoch: 5 [50000/60000 (83%)]\tLoss: 0.141307\n",
      "\n",
      "Test set: Average loss: 0.1189, Accuracy: 9654/10000 (97%)\n",
      "\n",
      "Train Epoch: 6 [0/60000 (0%)]\tLoss: 0.132494\n",
      "Train Epoch: 6 [10000/60000 (17%)]\tLoss: 0.114842\n",
      "Train Epoch: 6 [20000/60000 (33%)]\tLoss: 0.081246\n",
      "Train Epoch: 6 [30000/60000 (50%)]\tLoss: 0.125309\n",
      "Train Epoch: 6 [40000/60000 (67%)]\tLoss: 0.100142\n",
      "Train Epoch: 6 [50000/60000 (83%)]\tLoss: 0.101783\n",
      "\n",
      "Test set: Average loss: 0.1007, Accuracy: 9702/10000 (97%)\n",
      "\n",
      "Train Epoch: 7 [0/60000 (0%)]\tLoss: 0.113664\n",
      "Train Epoch: 7 [10000/60000 (17%)]\tLoss: 0.095616\n",
      "Train Epoch: 7 [20000/60000 (33%)]\tLoss: 0.102294\n",
      "Train Epoch: 7 [30000/60000 (50%)]\tLoss: 0.119669\n",
      "Train Epoch: 7 [40000/60000 (67%)]\tLoss: 0.067717\n",
      "Train Epoch: 7 [50000/60000 (83%)]\tLoss: 0.095699\n",
      "\n",
      "Test set: Average loss: 0.0870, Accuracy: 9743/10000 (97%)\n",
      "\n",
      "Train Epoch: 8 [0/60000 (0%)]\tLoss: 0.092721\n",
      "Train Epoch: 8 [10000/60000 (17%)]\tLoss: 0.089067\n",
      "Train Epoch: 8 [20000/60000 (33%)]\tLoss: 0.084246\n",
      "Train Epoch: 8 [30000/60000 (50%)]\tLoss: 0.078066\n",
      "Train Epoch: 8 [40000/60000 (67%)]\tLoss: 0.086300\n",
      "Train Epoch: 8 [50000/60000 (83%)]\tLoss: 0.076830\n",
      "\n",
      "Test set: Average loss: 0.0843, Accuracy: 9740/10000 (97%)\n",
      "\n",
      "Train Epoch: 9 [0/60000 (0%)]\tLoss: 0.084961\n",
      "Train Epoch: 9 [10000/60000 (17%)]\tLoss: 0.098507\n",
      "Train Epoch: 9 [20000/60000 (33%)]\tLoss: 0.080564\n",
      "Train Epoch: 9 [30000/60000 (50%)]\tLoss: 0.071556\n",
      "Train Epoch: 9 [40000/60000 (67%)]\tLoss: 0.050674\n",
      "Train Epoch: 9 [50000/60000 (83%)]\tLoss: 0.059066\n",
      "\n",
      "Test set: Average loss: 0.0709, Accuracy: 9780/10000 (98%)\n",
      "\n",
      "Train Epoch: 10 [0/60000 (0%)]\tLoss: 0.065908\n",
      "Train Epoch: 10 [10000/60000 (17%)]\tLoss: 0.058820\n",
      "Train Epoch: 10 [20000/60000 (33%)]\tLoss: 0.069865\n",
      "Train Epoch: 10 [30000/60000 (50%)]\tLoss: 0.059394\n",
      "Train Epoch: 10 [40000/60000 (67%)]\tLoss: 0.068309\n",
      "Train Epoch: 10 [50000/60000 (83%)]\tLoss: 0.053650\n",
      "\n",
      "Test set: Average loss: 0.0672, Accuracy: 9793/10000 (98%)\n",
      "\n"
     ]
    }
   ],
   "source": [
    "# GPU usage\n",
    "if args['cuda']:\n",
    "    model.cuda()\n",
    "\n",
    "# Define the optimizer\n",
    "optimizer = optim.Adam(model.parameters(), lr=0.001)\n",
    "\n",
    "# Train & Test for defined epochs\n",
    "for epoch in range(1, args['epochs'] + 1):\n",
    "    train(epoch)\n",
    "    test(print_class_accuracy=False)\n"
   ]
  },
  {
   "cell_type": "markdown",
   "metadata": {
    "id": "25IfFbRMRAj7"
   },
   "source": [
    "위에서 만든 LeNet() model을 이용해서 98%수준의 정확도를 얻도록 학습이 가능했다. "
   ]
  },
  {
   "cell_type": "code",
   "execution_count": 11,
   "metadata": {
    "colab": {
     "base_uri": "https://localhost:8080/"
    },
    "executionInfo": {
     "elapsed": 3447,
     "status": "ok",
     "timestamp": 1633534135395,
     "user": {
      "displayName": "규",
      "photoUrl": "https://lh3.googleusercontent.com/a/default-user=s64",
      "userId": "10356754072138524849"
     },
     "user_tz": -540
    },
    "id": "zKMSRXXBQ0Aj",
    "outputId": "1f06d55c-b50b-4f61-9d20-8eac80d16afb"
   },
   "outputs": [
    {
     "name": "stdout",
     "output_type": "stream",
     "text": [
      "\n",
      "Test set: Average loss: 0.0672, Accuracy: 9793/10000 (98%)\n",
      "\n",
      "Accuracy for class 0: 972/980 (99.2%)\n",
      "Accuracy for class 1: 1119/1135 (98.6%)\n",
      "Accuracy for class 2: 1014/1032 (98.3%)\n",
      "Accuracy for class 3: 1000/1010 (99.0%)\n",
      "Accuracy for class 4: 957/982 (97.5%)\n",
      "Accuracy for class 5: 871/892 (97.6%)\n",
      "Accuracy for class 6: 936/958 (97.7%)\n",
      "Accuracy for class 7: 1004/1028 (97.7%)\n",
      "Accuracy for class 8: 952/974 (97.7%)\n",
      "Accuracy for class 9: 968/1009 (95.9%)\n"
     ]
    }
   ],
   "source": [
    "# Accuracy for each class\n",
    "\n",
    "test(print_class_accuracy = True)"
   ]
  },
  {
   "cell_type": "code",
   "execution_count": 12,
   "metadata": {
    "colab": {
     "base_uri": "https://localhost:8080/"
    },
    "executionInfo": {
     "elapsed": 2679,
     "status": "ok",
     "timestamp": 1633534139438,
     "user": {
      "displayName": "규",
      "photoUrl": "https://lh3.googleusercontent.com/a/default-user=s64",
      "userId": "10356754072138524849"
     },
     "user_tz": -540
    },
    "id": "09hJEA0SXD9B",
    "outputId": "bd6ceef8-ce21-4575-ef52-bf6cdade9134"
   },
   "outputs": [
    {
     "name": "stdout",
     "output_type": "stream",
     "text": [
      "torch.Size([1000, 1, 32, 32])\n",
      "torch.Size([1000, 1, 32, 32])\n",
      "torch.Size([1000, 1, 32, 32])\n",
      "torch.Size([1000, 1, 32, 32])\n",
      "torch.Size([1000, 1, 32, 32])\n",
      "torch.Size([1000, 1, 32, 32])\n",
      "torch.Size([1000, 1, 32, 32])\n",
      "torch.Size([1000, 1, 32, 32])\n",
      "torch.Size([1000, 1, 32, 32])\n",
      "torch.Size([1000, 1, 32, 32])\n"
     ]
    }
   ],
   "source": [
    "# Test data shape\n",
    "\n",
    "for data, target in test_loader:\n",
    "  print(data.shape)"
   ]
  },
  {
   "cell_type": "code",
   "execution_count": null,
   "metadata": {
    "colab": {
     "base_uri": "https://localhost:8080/"
    },
    "executionInfo": {
     "elapsed": 7,
     "status": "ok",
     "timestamp": 1633518451077,
     "user": {
      "displayName": "Verse",
      "photoUrl": "https://lh3.googleusercontent.com/a/default-user=s64",
      "userId": "06489592801449150882"
     },
     "user_tz": -540
    },
    "id": "cXNTvRRxOVRr",
    "outputId": "df65ed22-c784-48be-c610-466b88cf1d00"
   },
   "outputs": [
    {
     "data": {
      "text/plain": [
       "tensor([7, 6, 9, 6, 3, 5, 7, 9, 1, 3, 2, 5, 8, 7, 0, 4, 0, 8, 4, 7, 9, 6, 3, 5,\n",
       "        4, 2, 2, 5, 9, 3, 0, 2, 1, 0, 0, 8, 1, 6, 2, 3])"
      ]
     },
     "execution_count": 16,
     "metadata": {},
     "output_type": "execute_result"
    }
   ],
   "source": [
    "target[0:40]"
   ]
  },
  {
   "cell_type": "code",
   "execution_count": null,
   "metadata": {
    "id": "5XwOWN1NYvCC"
   },
   "outputs": [],
   "source": [
    "# imshow function\n",
    "\n",
    "def imshow(img):\n",
    "    npimg = img.numpy()\n",
    "    plt.imshow(np.transpose(npimg, (1, 2, 0)))\n",
    "    plt.show()"
   ]
  },
  {
   "cell_type": "code",
   "execution_count": null,
   "metadata": {
    "colab": {
     "base_uri": "https://localhost:8080/",
     "height": 261
    },
    "executionInfo": {
     "elapsed": 13,
     "status": "ok",
     "timestamp": 1633508083850,
     "user": {
      "displayName": "Verse",
      "photoUrl": "https://lh3.googleusercontent.com/a/default-user=s64",
      "userId": "06489592801449150882"
     },
     "user_tz": -540
    },
    "id": "eKJ3hvNiZDWz",
    "outputId": "d23076f7-9a6d-4ae5-8f26-8873778dfdfd"
   },
   "outputs": [
    {
     "data": {
      "image/png": "[encoded data removed]",
      "text/plain": [
       "<Figure size 432x288 with 1 Axes>"
      ]
     },
     "metadata": {
      "needs_background": "light"
     },
     "output_type": "display_data"
    }
   ],
   "source": [
    "imshow(torchvision.utils.make_grid(data[0:40,...]))"
   ]
  },
  {
   "cell_type": "code",
   "execution_count": null,
   "metadata": {
    "id": "nf0twX5OZE_b"
   },
   "outputs": [],
   "source": [
    "output = model(data.cuda())\n",
    "pred = output.data.max(1, keepdim=True)[1]"
   ]
  },
  {
   "cell_type": "code",
   "execution_count": null,
   "metadata": {
    "colab": {
     "base_uri": "https://localhost:8080/"
    },
    "executionInfo": {
     "elapsed": 4,
     "status": "ok",
     "timestamp": 1633508087302,
     "user": {
      "displayName": "Verse",
      "photoUrl": "https://lh3.googleusercontent.com/a/default-user=s64",
      "userId": "06489592801449150882"
     },
     "user_tz": -540
    },
    "id": "hARyqF5eZssa",
    "outputId": "da27d124-8dab-434f-b0e1-28ef66dcba5c"
   },
   "outputs": [
    {
     "data": {
      "text/plain": [
       "tensor([[3, 3, 7, 7, 2, 2, 7, 2],\n",
       "        [5, 9, 5, 9, 7, 2, 5, 4],\n",
       "        [6, 7, 8, 6, 7, 8, 7, 7],\n",
       "        [3, 5, 0, 7, 4, 2, 8, 1],\n",
       "        [1, 2, 1, 0, 6, 7, 1, 2]])"
      ]
     },
     "execution_count": 46,
     "metadata": {},
     "output_type": "execute_result"
    }
   ],
   "source": [
    "torch.reshape(pred.cpu()[0:40],(5,8))"
   ]
  },
  {
   "cell_type": "code",
   "execution_count": null,
   "metadata": {
    "colab": {
     "base_uri": "https://localhost:8080/"
    },
    "executionInfo": {
     "elapsed": 5,
     "status": "ok",
     "timestamp": 1633508089376,
     "user": {
      "displayName": "Verse",
      "photoUrl": "https://lh3.googleusercontent.com/a/default-user=s64",
      "userId": "06489592801449150882"
     },
     "user_tz": -540
    },
    "id": "_Aff3fewZ5Br",
    "outputId": "3a7aec3c-1c77-4925-a8c6-07ea8a13afeb"
   },
   "outputs": [
    {
     "data": {
      "text/plain": [
       "tensor([[3, 3, 7, 7, 2, 2, 7, 2],\n",
       "        [5, 9, 5, 9, 7, 2, 5, 4],\n",
       "        [6, 7, 8, 6, 7, 8, 7, 7],\n",
       "        [3, 5, 0, 7, 4, 2, 8, 1],\n",
       "        [1, 2, 1, 0, 6, 7, 1, 2]])"
      ]
     },
     "execution_count": 47,
     "metadata": {},
     "output_type": "execute_result"
    }
   ],
   "source": [
    "torch.reshape(target[0:40],(5,8))"
   ]
  },
  {
   "cell_type": "markdown",
   "metadata": {
    "id": "pYBfBbieth5f"
   },
   "source": [
    "\\\n"
   ]
  },
  {
   "cell_type": "markdown",
   "metadata": {
    "id": "mmYRgY-0r715"
   },
   "source": [
    "#**Assignment 2-2**\n",
    "\n",
    "\n",
    "\n",
    "1.   직접 손으로 쓴 digit (0~9) load해서 이미지로 plot하기 (각 class당 10개 X 10개 class = 100개 digits)\n",
    "  *   손으로 쓴 digits들을 10 X 10 grid 형태의 이미지로 plot 하기.\n",
    "  *   가능하면 다른 글씨체, 스타일, 다른 필기도구 등으로 써서 성능을 파악하는 것이 목적.\n",
    "\n",
    "\n",
    "2.   앞에서 학습시킨 MNIST Classification 모델에 테스트해서 Accuracy 수치 확인.\n",
    "3.   위 2)번 Accuracy를 향상시키기 위한 본인만의 방법 제시 및 향상된 테스트 Accuracy 수치 제시\n",
    "  *  예시) CNN 모델 수정, 영상 전처리(pre-processing) 추가 등\n",
    "  *  추가하거나 수정한 코드 부분에는 주석으로 설명을 작성해야 함.\n"
   ]
  },
  {
   "cell_type": "code",
   "execution_count": 13,
   "metadata": {
    "colab": {
     "base_uri": "https://localhost:8080/"
    },
    "executionInfo": {
     "elapsed": 16462,
     "status": "ok",
     "timestamp": 1633534161040,
     "user": {
      "displayName": "규",
      "photoUrl": "https://lh3.googleusercontent.com/a/default-user=s64",
      "userId": "10356754072138524849"
     },
     "user_tz": -540
    },
    "id": "8JgxI20jc7vS",
    "outputId": "d54df943-c49f-465c-b5c7-db6366dc97b2"
   },
   "outputs": [
    {
     "name": "stdout",
     "output_type": "stream",
     "text": [
      "Mounted at /content/drive\n"
     ]
    }
   ],
   "source": [
    "# Google Drive mount\n",
    "\n",
    "from google.colab import drive\n",
    "drive.mount('/content/drive')"
   ]
  },
  {
   "cell_type": "code",
   "execution_count": 14,
   "metadata": {
    "colab": {
     "base_uri": "https://localhost:8080/",
     "height": 269
    },
    "executionInfo": {
     "elapsed": 26497,
     "status": "ok",
     "timestamp": 1633534190938,
     "user": {
      "displayName": "규",
      "photoUrl": "https://lh3.googleusercontent.com/a/default-user=s64",
      "userId": "10356754072138524849"
     },
     "user_tz": -540
    },
    "id": "kVsiYBlCp3Ox",
    "outputId": "f40a06b4-9eb7-4e9c-950e-5718bb078781"
   },
   "outputs": [
    {
     "data": {
      "image/png": "[encoded data removed]",
      "text/plain": [
       "<Figure size 432x288 with 1 Axes>"
      ]
     },
     "metadata": {
      "needs_background": "light"
     },
     "output_type": "display_data"
    }
   ],
   "source": [
    "### 1) Load and plot your written digits here ###\n",
    "\n",
    "trans = transforms.Compose([transforms.Grayscale(num_output_channels=1), #데이터를 색 채널이 1개인 흑백으로 변환\n",
    "                            transforms.Resize((32,32)), #픽셀 32x32짜리 이미지로 변환\n",
    "                            transforms.ToTensor(), #데이터를 텐서로 변환\n",
    "                            transforms.Normalize((0.5,),(0.5,))]) #채널이 1개인 데이터를 정규화\n",
    "my_dataset=torchvision.datasets.ImageFolder(root='drive/My Drive/dataset', transform=trans) #dataset폴더에는 class별로 분리된 손글씨 파일이 있다\n",
    "test_loader=torch.utils.data.DataLoader(my_dataset, batch_size=100) #위의 dataset을 기반으로 DataLoader을 만들었다\n",
    "\n",
    "d_iter=iter(test_loader) #이터레이터를 통해 test_loader에서 data를 가져온다\n",
    "images, labels=d_iter.next()\n",
    "\n",
    "grid=torchvision.utils.make_grid(images, nrow=10) #데이터로 10개의 row를 가진 10x10 grid형태의 이미지를 만든다\n",
    "\n",
    "def imshow2(image): #위에서 만든 grid를 matplotlib를 활용해 출력시켜주는 함수이다\n",
    "    image = image/2 + 0.5\n",
    "    np_img=image.numpy()\n",
    "    plt.imshow(np.transpose(np_img,(1,2,0)))\n",
    "\n",
    "imshow2(grid)"
   ]
  },
  {
   "cell_type": "code",
   "execution_count": 15,
   "metadata": {
    "colab": {
     "base_uri": "https://localhost:8080/"
    },
    "executionInfo": {
     "elapsed": 148513,
     "status": "ok",
     "timestamp": 1633534346646,
     "user": {
      "displayName": "규",
      "photoUrl": "https://lh3.googleusercontent.com/a/default-user=s64",
      "userId": "10356754072138524849"
     },
     "user_tz": -540
    },
    "id": "lm6PYP7UShLD",
    "outputId": "92d578f5-e91d-4442-857b-3b97c6041f9c"
   },
   "outputs": [
    {
     "name": "stdout",
     "output_type": "stream",
     "text": [
      "Train Epoch: 1 [0/60000 (0%)]\tLoss: 0.055493\n",
      "Train Epoch: 1 [10000/60000 (17%)]\tLoss: 0.080207\n",
      "Train Epoch: 1 [20000/60000 (33%)]\tLoss: 0.073748\n",
      "Train Epoch: 1 [30000/60000 (50%)]\tLoss: 0.056953\n",
      "Train Epoch: 1 [40000/60000 (67%)]\tLoss: 0.055814\n",
      "Train Epoch: 1 [50000/60000 (83%)]\tLoss: 0.047967\n",
      "\n",
      "Test set: Average loss: 4.2553, Accuracy: 31/100 (31%)\n",
      "\n",
      "Train Epoch: 2 [0/60000 (0%)]\tLoss: 0.037080\n",
      "Train Epoch: 2 [10000/60000 (17%)]\tLoss: 0.054725\n",
      "Train Epoch: 2 [20000/60000 (33%)]\tLoss: 0.064710\n",
      "Train Epoch: 2 [30000/60000 (50%)]\tLoss: 0.044055\n",
      "Train Epoch: 2 [40000/60000 (67%)]\tLoss: 0.057482\n",
      "Train Epoch: 2 [50000/60000 (83%)]\tLoss: 0.038982\n",
      "\n",
      "Test set: Average loss: 4.4312, Accuracy: 29/100 (29%)\n",
      "\n",
      "Train Epoch: 3 [0/60000 (0%)]\tLoss: 0.047143\n",
      "Train Epoch: 3 [10000/60000 (17%)]\tLoss: 0.026185\n",
      "Train Epoch: 3 [20000/60000 (33%)]\tLoss: 0.041011\n",
      "Train Epoch: 3 [30000/60000 (50%)]\tLoss: 0.045135\n",
      "Train Epoch: 3 [40000/60000 (67%)]\tLoss: 0.062986\n",
      "Train Epoch: 3 [50000/60000 (83%)]\tLoss: 0.055774\n",
      "\n",
      "Test set: Average loss: 4.6857, Accuracy: 28/100 (28%)\n",
      "\n",
      "Train Epoch: 4 [0/60000 (0%)]\tLoss: 0.046461\n",
      "Train Epoch: 4 [10000/60000 (17%)]\tLoss: 0.037684\n",
      "Train Epoch: 4 [20000/60000 (33%)]\tLoss: 0.064977\n",
      "Train Epoch: 4 [30000/60000 (50%)]\tLoss: 0.030357\n",
      "Train Epoch: 4 [40000/60000 (67%)]\tLoss: 0.036539\n",
      "Train Epoch: 4 [50000/60000 (83%)]\tLoss: 0.037572\n",
      "\n",
      "Test set: Average loss: 4.9274, Accuracy: 29/100 (29%)\n",
      "\n",
      "Train Epoch: 5 [0/60000 (0%)]\tLoss: 0.038155\n",
      "Train Epoch: 5 [10000/60000 (17%)]\tLoss: 0.037362\n",
      "Train Epoch: 5 [20000/60000 (33%)]\tLoss: 0.012292\n",
      "Train Epoch: 5 [30000/60000 (50%)]\tLoss: 0.032896\n",
      "Train Epoch: 5 [40000/60000 (67%)]\tLoss: 0.033571\n",
      "Train Epoch: 5 [50000/60000 (83%)]\tLoss: 0.043250\n",
      "\n",
      "Test set: Average loss: 5.1562, Accuracy: 26/100 (26%)\n",
      "\n",
      "Train Epoch: 6 [0/60000 (0%)]\tLoss: 0.036815\n",
      "Train Epoch: 6 [10000/60000 (17%)]\tLoss: 0.014507\n",
      "Train Epoch: 6 [20000/60000 (33%)]\tLoss: 0.040257\n",
      "Train Epoch: 6 [30000/60000 (50%)]\tLoss: 0.043638\n",
      "Train Epoch: 6 [40000/60000 (67%)]\tLoss: 0.021857\n",
      "Train Epoch: 6 [50000/60000 (83%)]\tLoss: 0.036754\n",
      "\n",
      "Test set: Average loss: 5.2929, Accuracy: 26/100 (26%)\n",
      "\n",
      "Train Epoch: 7 [0/60000 (0%)]\tLoss: 0.030593\n",
      "Train Epoch: 7 [10000/60000 (17%)]\tLoss: 0.023308\n",
      "Train Epoch: 7 [20000/60000 (33%)]\tLoss: 0.023929\n",
      "Train Epoch: 7 [30000/60000 (50%)]\tLoss: 0.027795\n",
      "Train Epoch: 7 [40000/60000 (67%)]\tLoss: 0.037902\n",
      "Train Epoch: 7 [50000/60000 (83%)]\tLoss: 0.034271\n",
      "\n",
      "Test set: Average loss: 5.6761, Accuracy: 25/100 (25%)\n",
      "\n",
      "Train Epoch: 8 [0/60000 (0%)]\tLoss: 0.043143\n",
      "Train Epoch: 8 [10000/60000 (17%)]\tLoss: 0.021209\n",
      "Train Epoch: 8 [20000/60000 (33%)]\tLoss: 0.027713\n",
      "Train Epoch: 8 [30000/60000 (50%)]\tLoss: 0.025911\n",
      "Train Epoch: 8 [40000/60000 (67%)]\tLoss: 0.027272\n",
      "Train Epoch: 8 [50000/60000 (83%)]\tLoss: 0.032478\n",
      "\n",
      "Test set: Average loss: 5.8840, Accuracy: 24/100 (24%)\n",
      "\n",
      "Train Epoch: 9 [0/60000 (0%)]\tLoss: 0.014243\n",
      "Train Epoch: 9 [10000/60000 (17%)]\tLoss: 0.040803\n",
      "Train Epoch: 9 [20000/60000 (33%)]\tLoss: 0.018401\n",
      "Train Epoch: 9 [30000/60000 (50%)]\tLoss: 0.019338\n",
      "Train Epoch: 9 [40000/60000 (67%)]\tLoss: 0.035074\n",
      "Train Epoch: 9 [50000/60000 (83%)]\tLoss: 0.036482\n",
      "\n",
      "Test set: Average loss: 6.0937, Accuracy: 21/100 (21%)\n",
      "\n",
      "Train Epoch: 10 [0/60000 (0%)]\tLoss: 0.016459\n",
      "Train Epoch: 10 [10000/60000 (17%)]\tLoss: 0.025454\n",
      "Train Epoch: 10 [20000/60000 (33%)]\tLoss: 0.015868\n",
      "Train Epoch: 10 [30000/60000 (50%)]\tLoss: 0.023535\n",
      "Train Epoch: 10 [40000/60000 (67%)]\tLoss: 0.030550\n",
      "Train Epoch: 10 [50000/60000 (83%)]\tLoss: 0.023629\n",
      "\n",
      "Test set: Average loss: 6.4841, Accuracy: 20/100 (20%)\n",
      "\n"
     ]
    }
   ],
   "source": [
    "# GPU usage\n",
    "if args['cuda']:\n",
    "    model.cuda()\n",
    "\n",
    "# Define the optimizer\n",
    "optimizer = optim.Adam(model.parameters(), lr=0.001)\n",
    "\n",
    "# Train & Test for defined epochs\n",
    "for epoch in range(1, args['epochs'] + 1): # 10번 이상으로 학습을 시킴에도 test accuracy가 더 올라가지 않았다.\n",
    "    train(epoch)\n",
    "    test(print_class_accuracy=False)"
   ]
  },
  {
   "cell_type": "markdown",
   "metadata": {
    "id": "nAR90cxaVED_"
   },
   "source": [
    "이미지 데이터를 가져와 그리드로 출력하고 이에 대해 학습을 하며 Test data와 검증을 해보았다. 태블릿 PC를 활용해 Mnist data와 비슷한 조건을 만들었고\n",
    "필기구의 경우 내가 사용한 어플의 연필이나 붓펜 등은 이미지로 인식시키기 너무 적절하지 않은 데이터가 나와 대신 글씨체와 굵기만을 조금씩 다르게 하며 적었다.\n",
    " 눈으로 보기에 Mnist와 매우 흡사하다고 생각했는데 Mnist test set에서 98%의 정확도를 보인 모델로 테스트를 진행했음에도 정확도는 일반적으로 20~30%수준으로 머물러 개선이 필요함을 보여주었다.\n",
    "\n",
    "우리가 다루는 Mnist data는 픽셀 수가 적기도 하고 우리는 이미 기존의 Mnist data를 테스트 셋으로 잡았을 때 충분히 좋은 성능을 가지는 것을 확인할 수 있었다. 그래서 무거운 CNN모델을 활용해도 효율이 아주 좋지는 않을 것이라고 생각했으며 약간 더 개선된 CNN모델을 찾고 이미지를 Mnist와 최대한 비슷하게 전처리한다면 어느정도의 성능 향상을 보일 수 있을 것이라고 판단하였다."
   ]
  },
  {
   "cell_type": "code",
   "execution_count": 16,
   "metadata": {
    "executionInfo": {
     "elapsed": 285,
     "status": "ok",
     "timestamp": 1633534388654,
     "user": {
      "displayName": "규",
      "photoUrl": "https://lh3.googleusercontent.com/a/default-user=s64",
      "userId": "10356754072138524849"
     },
     "user_tz": -540
    },
    "id": "JfBtU_ItMlrI"
   },
   "outputs": [],
   "source": [
    "class LeNet(nn.Module):\n",
    "    # Define the structure of the LeNet\n",
    "\n",
    "    def __init__(self):\n",
    "        super(LeNet, self).__init__()\n",
    "        self.conv1=nn.Conv2d(1,6,kernel_size=5)\n",
    "        self.conv2=nn.Conv2d(6,16,kernel_size=5)\n",
    "        self.conv3=nn.Conv2d(16,120, kernel_size=5)\n",
    "\n",
    "        self.fc1=nn.Linear(120,84)\n",
    "        self.fc2=nn.Linear(84,10)\n",
    "\n",
    "    def forward(self, x): #AlexNet에서 착안해 LeNet모델을 사용하면서 활성화함수로 relu를 사용하였다. 이 경우 Mnist데이터로 테스트 할 시 정확도가 99%까지도 올라가는 것을 확인하였다.\n",
    "        x=F.avg_pool2d(F.relu(self.conv1(x)),2,2) \n",
    "\n",
    "        x=F.avg_pool2d(F.relu(self.conv2(x)),2,2)\n",
    "        x=F.relu(self.conv3(x)) \n",
    "        \n",
    "        x=x.view(-1,120) \n",
    "\n",
    "        x=F.relu(self.fc1(x)) \n",
    "        x=self.fc2(x) \n",
    "\n",
    "        return F.log_softmax(x,dim=1) "
   ]
  },
  {
   "cell_type": "code",
   "execution_count": 17,
   "metadata": {
    "executionInfo": {
     "elapsed": 374,
     "status": "ok",
     "timestamp": 1633534390046,
     "user": {
      "displayName": "규",
      "photoUrl": "https://lh3.googleusercontent.com/a/default-user=s64",
      "userId": "10356754072138524849"
     },
     "user_tz": -540
    },
    "id": "UkX4wquurQDA"
   },
   "outputs": [],
   "source": [
    "model=LeNet()"
   ]
  },
  {
   "cell_type": "code",
   "execution_count": 25,
   "metadata": {
    "executionInfo": {
     "elapsed": 272,
     "status": "ok",
     "timestamp": 1633535248931,
     "user": {
      "displayName": "규",
      "photoUrl": "https://lh3.googleusercontent.com/a/default-user=s64",
      "userId": "10356754072138524849"
     },
     "user_tz": -540
    },
    "id": "SlPne4Z7Gzbt"
   },
   "outputs": [],
   "source": [
    "root='drive/My Drive/My_mnist.jpg' #My_mnist는 위에서 내가 불러온 클래스 별 숫자 파일의 자르기 전 형태(100개가 함께 있는 이미지)이다.\n",
    "src=cv2.imread(root,cv2.IMREAD_GRAYSCALE) # 영상을 흑백으로 불러와 색 채널을 1개로 만들어준다.\n",
    "ret , img = cv2.threshold(src,150,255,cv2.THRESH_BINARY) #영상을 이진화한다."
   ]
  },
  {
   "cell_type": "code",
   "execution_count": 26,
   "metadata": {
    "colab": {
     "base_uri": "https://localhost:8080/",
     "height": 209
    },
    "executionInfo": {
     "elapsed": 216,
     "status": "error",
     "timestamp": 1633535250241,
     "user": {
      "displayName": "규",
      "photoUrl": "https://lh3.googleusercontent.com/a/default-user=s64",
      "userId": "10356754072138524849"
     },
     "user_tz": -540
    },
    "id": "fM68oUPmSIFF",
    "outputId": "3076085e-3259-4999-816f-60423b50c15b"
   },
   "outputs": [
    {
     "ename": "error",
     "evalue": "ignored",
     "output_type": "error",
     "traceback": [
      "\u001b[0;31m---------------------------------------------------------------------------\u001b[0m",
      "\u001b[0;31merror\u001b[0m                                     Traceback (most recent call last)",
      "\u001b[0;32m<ipython-input-26-e2a03be41584>\u001b[0m in \u001b[0;36m<module>\u001b[0;34m()\u001b[0m\n\u001b[1;32m      1\u001b[0m \u001b[0mk\u001b[0m \u001b[0;34m=\u001b[0m \u001b[0mcv2\u001b[0m\u001b[0;34m.\u001b[0m\u001b[0mgetStructuringElement\u001b[0m\u001b[0;34m(\u001b[0m\u001b[0mcv2\u001b[0m\u001b[0;34m.\u001b[0m\u001b[0mMORPH_RECT\u001b[0m\u001b[0;34m,\u001b[0m \u001b[0;34m(\u001b[0m\u001b[0;36m3\u001b[0m\u001b[0;34m,\u001b[0m\u001b[0;36m3\u001b[0m\u001b[0;34m)\u001b[0m\u001b[0;34m)\u001b[0m\u001b[0;34m\u001b[0m\u001b[0;34m\u001b[0m\u001b[0m\n\u001b[1;32m      2\u001b[0m \u001b[0;31m# 침식 연산 적용 ---②\u001b[0m\u001b[0;34m\u001b[0m\u001b[0;34m\u001b[0m\u001b[0;34m\u001b[0m\u001b[0m\n\u001b[0;32m----> 3\u001b[0;31m \u001b[0merosion\u001b[0m \u001b[0;34m=\u001b[0m \u001b[0mcv2\u001b[0m\u001b[0;34m.\u001b[0m\u001b[0merode\u001b[0m\u001b[0;34m(\u001b[0m\u001b[0mimg\u001b[0m\u001b[0;34m,\u001b[0m \u001b[0mk\u001b[0m\u001b[0;34m)\u001b[0m\u001b[0;34m\u001b[0m\u001b[0;34m\u001b[0m\u001b[0m\n\u001b[0m",
      "\u001b[0;31merror\u001b[0m: OpenCV(4.1.2) /io/opencv/modules/core/src/matrix.cpp:757: error: (-215:Assertion failed) dims <= 2 && step[0] > 0 in function 'locateROI'\n"
     ]
    }
   ],
   "source": [
    "k = cv2.getStructuringElement(cv2.MORPH_RECT, (3,3))\n",
    "erosion = cv2.erode(img, k) #모폴로지 연산\n",
    "#에러나 나실텐데 여기서부터 5칸(imwrite가 있는 곳)까지는 코드가 쭉 돌아가지 않습니다.\n",
    "\"\"\"모폴로지 연산을 적용하는 코드이다. jupyter notebook에서 돌아가지만 colab에서는 에러가 발생하는데 이유를 찾지 못했다.\n",
    "이 때문에 아래 이미지 전처리 코드부분은 여기에서 돌아가지 않는다\n",
    "그래서 이미지 전처리는 따로 하였고 그 결과파일을 바탕으로 아래에서 test를 하였다.\n",
    "아래에서는 이미지 전처리로 어느 정도의 성능개선이 일어난 것을 볼 수 있다. \"\"\""
   ]
  },
  {
   "cell_type": "code",
   "execution_count": 1,
   "metadata": {
    "id": "FDWJhu7RSDdV"
   },
   "outputs": [
    {
     "ename": "NameError",
     "evalue": "name 'cv2' is not defined",
     "output_type": "error",
     "traceback": [
      "\u001b[1;31m---------------------------------------------------------------------------\u001b[0m",
      "\u001b[1;31mNameError\u001b[0m                                 Traceback (most recent call last)",
      "\u001b[1;32m<ipython-input-1-a7c0a7121a7c>\u001b[0m in \u001b[0;36m<module>\u001b[1;34m\u001b[0m\n\u001b[1;32m----> 1\u001b[1;33m \u001b[0mcontours\u001b[0m \u001b[1;33m,\u001b[0m \u001b[0mhierarchy\u001b[0m \u001b[1;33m=\u001b[0m \u001b[0mcv2\u001b[0m\u001b[1;33m.\u001b[0m\u001b[0mfindContours\u001b[0m\u001b[1;33m(\u001b[0m\u001b[0mimg\u001b[0m \u001b[1;33m,\u001b[0m \u001b[0mcv2\u001b[0m\u001b[1;33m.\u001b[0m\u001b[0mRETR_EXTERNAL\u001b[0m \u001b[1;33m,\u001b[0m \u001b[0mcv2\u001b[0m\u001b[1;33m.\u001b[0m\u001b[0mCHAIN_APPROX_SIMPLE\u001b[0m\u001b[1;33m)\u001b[0m \u001b[1;31m#contour연산을 위해 외곽선을 검출한다\u001b[0m\u001b[1;33m\u001b[0m\u001b[1;33m\u001b[0m\u001b[0m\n\u001b[0m\u001b[0;32m      2\u001b[0m \u001b[0mcolor\u001b[0m \u001b[1;33m=\u001b[0m \u001b[0mcv2\u001b[0m\u001b[1;33m.\u001b[0m\u001b[0mcvtColor\u001b[0m\u001b[1;33m(\u001b[0m\u001b[0mimg\u001b[0m\u001b[1;33m,\u001b[0m \u001b[0mcv2\u001b[0m\u001b[1;33m.\u001b[0m\u001b[0mCOLOR_GRAY2BGR\u001b[0m\u001b[1;33m)\u001b[0m \u001b[1;31m#이진화 이미지를 color이미지로 복사한다\u001b[0m\u001b[1;33m\u001b[0m\u001b[1;33m\u001b[0m\u001b[0m\n\u001b[0;32m      3\u001b[0m \u001b[0mcv2\u001b[0m\u001b[1;33m.\u001b[0m\u001b[0mdrawContours\u001b[0m\u001b[1;33m(\u001b[0m\u001b[0mcolor\u001b[0m \u001b[1;33m,\u001b[0m \u001b[0mcontours\u001b[0m \u001b[1;33m,\u001b[0m \u001b[1;33m-\u001b[0m\u001b[1;36m1\u001b[0m \u001b[1;33m,\u001b[0m \u001b[1;33m(\u001b[0m\u001b[1;36m0\u001b[0m\u001b[1;33m,\u001b[0m\u001b[1;36m255\u001b[0m\u001b[1;33m,\u001b[0m\u001b[1;36m0\u001b[0m\u001b[1;33m)\u001b[0m\u001b[1;33m,\u001b[0m\u001b[1;36m3\u001b[0m\u001b[1;33m)\u001b[0m \u001b[1;31m#초록색으로 외곽선을 그려준다. #리스트연산을 위해 초기변수 선언\u001b[0m\u001b[1;33m\u001b[0m\u001b[1;33m\u001b[0m\u001b[0m\n\u001b[0;32m      4\u001b[0m \u001b[0mbox\u001b[0m \u001b[1;33m=\u001b[0m \u001b[1;33m[\u001b[0m\u001b[1;33m]\u001b[0m\u001b[1;33m\u001b[0m\u001b[1;33m\u001b[0m\u001b[0m\n\u001b[0;32m      5\u001b[0m \u001b[0mdigit_arr\u001b[0m \u001b[1;33m=\u001b[0m \u001b[1;33m[\u001b[0m\u001b[1;33m]\u001b[0m\u001b[1;33m\u001b[0m\u001b[1;33m\u001b[0m\u001b[0m\n",
      "\u001b[1;31mNameError\u001b[0m: name 'cv2' is not defined"
     ]
    }
   ],
   "source": [
    "contours , hierarchy = cv2.findContours(img , cv2.RETR_EXTERNAL , cv2.CHAIN_APPROX_SIMPLE) #contour연산을 위해 외곽선을 검출한다\n",
    "color = cv2.cvtColor(img, cv2.COLOR_GRAY2BGR) #이진화 이미지를 color이미지로 복사한다\n",
    "cv2.drawContours(color , contours , -1 , (0,255,0),3) #초록색으로 외곽선을 그려준다. #리스트연산을 위해 초기변수 선언\n",
    "box = []\n",
    "digit_arr = []\n",
    "digit_arr2 = []\n",
    "count = 0 #검출한 외곽선에 사각형을 그려서 배열에 추가\n",
    "for i in range(len(contours)) : #coutour를 통해 검출한 외곽선을 기준으로 각 이미지에서 검출된 박스 정보를 box에 저장한다\n",
    "    img2 = img.copy()\n",
    "    x,y,w,h = cv2.boundingRect(contours[i])\n",
    "    box.append([x,y,w,h])"
   ]
  },
  {
   "cell_type": "code",
   "execution_count": null,
   "metadata": {
    "id": "MKFgePThGzzU"
   },
   "outputs": [],
   "source": [
    "print(len(box)) #jupyter notebook에서 내 이미지에 대해 이를 실행하였을 경우 딱 100개의 박스를 검출했다. 태블릿을 이용해 특별히 Noise가 없어서 좋은 결과가 나온 것으로 보인다"
   ]
  },
  {
   "cell_type": "code",
   "execution_count": null,
   "metadata": {},
   "outputs": [],
   "source": [
    "for x,y,w,h in box : #box에 들어있는 x,y,w,h,정보를 기준으로 가로세로를 계산해준다\n",
    "    y_temp = img2[y:y+h,x:x+w].shape[0]\n",
    "    x_temp = img2[y:y+h,x:x+w].shape[1]\n",
    "    if x_temp and y_temp > 10 : #너무 작은 이미지는 숫자가 아닌 것으로 판단해 버리기 위한 if문인데 여기선 동작하지 않는다 \n",
    "        count += 1\n",
    "        cv2.rectangle(color,(x,y),(x+w,y+h),(0,0,255),1)\n",
    "        digit_arr.append(img2[y:y+h,x:x+w]) #이미지에서 contour로 찾은 사각형만큼을 digit_arr에 넣어준다.\n",
    "        if count == 10 :  #우리가 숫자를 10개씩 적었고 이를 숫자별로 10x10배열에 저장해준다.\n",
    "            digit_arr2.append(digit_arr)\n",
    "            digit_arr = []\n",
    "            count = 0"
   ]
  },
  {
   "cell_type": "code",
   "execution_count": 31,
   "metadata": {
    "colab": {
     "base_uri": "https://localhost:8080/",
     "height": 245
    },
    "executionInfo": {
     "elapsed": 232,
     "status": "error",
     "timestamp": 1633536941636,
     "user": {
      "displayName": "규",
      "photoUrl": "https://lh3.googleusercontent.com/a/default-user=s64",
      "userId": "10356754072138524849"
     },
     "user_tz": -540
    },
    "id": "Q_FFmZv1G0Ng",
    "outputId": "47115328-b6bc-4d82-a7d6-9be934906a5a"
   },
   "outputs": [
    {
     "ename": "NameError",
     "evalue": "ignored",
     "output_type": "error",
     "traceback": [
      "\u001b[0;31m---------------------------------------------------------------------------\u001b[0m",
      "\u001b[0;31mNameError\u001b[0m                                 Traceback (most recent call last)",
      "\u001b[0;32m<ipython-input-31-643e88302874>\u001b[0m in \u001b[0;36m<module>\u001b[0;34m()\u001b[0m\n\u001b[0;32m----> 1\u001b[0;31m \u001b[0;32mfor\u001b[0m \u001b[0mi\u001b[0m \u001b[0;32min\u001b[0m \u001b[0mrange\u001b[0m\u001b[0;34m(\u001b[0m\u001b[0mlen\u001b[0m\u001b[0;34m(\u001b[0m\u001b[0mdigit_arr2\u001b[0m\u001b[0;34m)\u001b[0m\u001b[0;34m)\u001b[0m\u001b[0;34m:\u001b[0m\u001b[0;34m\u001b[0m\u001b[0;34m\u001b[0m\u001b[0m\n\u001b[0m\u001b[1;32m      2\u001b[0m     \u001b[0;32mfor\u001b[0m \u001b[0mj\u001b[0m \u001b[0;32min\u001b[0m \u001b[0mrange\u001b[0m\u001b[0;34m(\u001b[0m\u001b[0mlen\u001b[0m\u001b[0;34m(\u001b[0m\u001b[0mdigit_arr2\u001b[0m\u001b[0;34m[\u001b[0m\u001b[0mi\u001b[0m\u001b[0;34m]\u001b[0m\u001b[0;34m)\u001b[0m\u001b[0;34m)\u001b[0m\u001b[0;34m:\u001b[0m\u001b[0;34m\u001b[0m\u001b[0;34m\u001b[0m\u001b[0m\n\u001b[1;32m      3\u001b[0m         \u001b[0mcount\u001b[0m\u001b[0;34m+=\u001b[0m\u001b[0;36m1\u001b[0m\u001b[0;34m\u001b[0m\u001b[0;34m\u001b[0m\u001b[0m\n\u001b[1;32m      4\u001b[0m         \u001b[0;32mif\u001b[0m \u001b[0mi\u001b[0m\u001b[0;34m==\u001b[0m\u001b[0;36m8\u001b[0m\u001b[0;34m:\u001b[0m\u001b[0;31m#위의 전처리 과정에서 이미지가 거꾸로 저장되어 i==8일때 내 데이터에서 실제 이미지는 1인 것을 확인하였다. 1의 경우 contour을 적용하며 두께가 두꺼워져\u001b[0m\u001b[0;34m\u001b[0m\u001b[0;34m\u001b[0m\u001b[0m\n\u001b[1;32m      5\u001b[0m             \u001b[0mwidth\u001b[0m\u001b[0;34m=\u001b[0m\u001b[0mdigit_arr2\u001b[0m\u001b[0;34m[\u001b[0m\u001b[0mi\u001b[0m\u001b[0;34m]\u001b[0m\u001b[0;34m[\u001b[0m\u001b[0mj\u001b[0m\u001b[0;34m]\u001b[0m\u001b[0;34m.\u001b[0m\u001b[0mshape\u001b[0m\u001b[0;34m[\u001b[0m\u001b[0;36m1\u001b[0m\u001b[0;34m]\u001b[0m\u001b[0;34m\u001b[0m\u001b[0;34m\u001b[0m\u001b[0m\n",
      "\u001b[0;31mNameError\u001b[0m: name 'digit_arr2' is not defined"
     ]
    }
   ],
   "source": [
    "for i in range(len(digit_arr2)):\n",
    "    for j in range(len(digit_arr2[i])):\n",
    "        count+=1\n",
    "        if i==8:#위의 i==8일때 내 데이터에서 실제 이미지는 1인 것을 확인하였다.\n",
    "            #1의 경우 contour을 적용하며 두께가 두꺼워져 따로 아래와 같이 폭과 두께를 계산해 조금 조절해주는 연산을 시행하였다.\n",
    "            width=digit_arr2[i][j].shape[1]\n",
    "            height=digit_arr2[i][j].shape[0]\n",
    "            tmp=(height-width)/2\n",
    "            mask = np.zeros((height,height))\n",
    "            mask[0:height, int(tmp): int(tmp)+width]=digit_arr2[i][j]\n",
    "            digit_arr2[i][j] = cv2.resize(mask,(32,32))\n",
    "        else:\n",
    "            digit_arr2[i][j] = cv2.resize(digit_arr2[i][j],(32,32))\n",
    "\n",
    "        cv2.imwrite(f'drive/My Drive/dataset5/{9-i}/'+str(9-i)+' '+str(j)+'.jpg',digit_arr2[i][j]) #이 코드를 통해 dataset5폴더에 전처리된 파일을 저장한다"
   ]
  },
  {
   "cell_type": "markdown",
   "metadata": {
    "id": "lW1RTlIGPNa8"
   },
   "source": [
    "위와 같은 코드가 코랩에서는 오류가 난다. 그래서 개별적으로 이미지 전처리를 수행하였고 그 결과 얻은 파일을 dataset5에 넣어 구글 드라이브에 업로드 이후 아래에서 불러와서 다시 test를 해보았다."
   ]
  },
  {
   "cell_type": "code",
   "execution_count": 27,
   "metadata": {
    "colab": {
     "base_uri": "https://localhost:8080/",
     "height": 269
    },
    "executionInfo": {
     "elapsed": 25739,
     "status": "ok",
     "timestamp": 1633535363329,
     "user": {
      "displayName": "규",
      "photoUrl": "https://lh3.googleusercontent.com/a/default-user=s64",
      "userId": "10356754072138524849"
     },
     "user_tz": -540
    },
    "id": "v-0l4GUsQnX9",
    "outputId": "af0b7a98-b6d0-4fa8-dd0f-1da5cf8f1ead"
   },
   "outputs": [
    {
     "data": {
      "image/png": "[encoded data removed]",
      "text/plain": [
       "<Figure size 432x288 with 1 Axes>"
      ]
     },
     "metadata": {
      "needs_background": "light"
     },
     "output_type": "display_data"
    }
   ],
   "source": [
    "#전처리된 이미지를 불러와서 테스트하는 코드\n",
    "\n",
    "trans = transforms.Compose([transforms.Grayscale(num_output_channels=1), #데이터를 색 채널이 1개인 흑백으로 변환\n",
    "                            transforms.Resize((32,32)), #픽셀 32x32짜리 이미지로 변환\n",
    "                            transforms.ToTensor(), #데이터를 텐서로 변환\n",
    "                            transforms.Normalize((0.5,),(0.5,))]) #채널이 1개인 데이터를 정규화\n",
    "my_dataset=torchvision.datasets.ImageFolder(root='drive/My Drive/dataset5', transform=trans) #dataset5는 전처리된 이미지가 들어있는 폴더이다.\n",
    "test_loader=torch.utils.data.DataLoader(my_dataset, batch_size=100) #위의 dataset을 기반으로 DataLoader을 만들었다\n",
    "\n",
    "d_iter=iter(test_loader) #이터레이터를 통해 test_loader에서 data를 가져온다\n",
    "images, labels=d_iter.next()\n",
    "\n",
    "grid=torchvision.utils.make_grid(images, nrow=10) #데이터로 10개의 row를 가진 10x10 grid형태의 이미지를 만든다\n",
    "\n",
    "def imshow2(image): #위에서 만든 grid 이미지를 출력시켜주는 함수이다\n",
    "    image = image/2 + 0.5\n",
    "    np_img=image.numpy()\n",
    "    plt.imshow(np.transpose(np_img,(1,2,0)))\n",
    "\n",
    "imshow2(grid)"
   ]
  },
  {
   "cell_type": "code",
   "execution_count": 28,
   "metadata": {
    "colab": {
     "base_uri": "https://localhost:8080/"
    },
    "executionInfo": {
     "elapsed": 152600,
     "status": "ok",
     "timestamp": 1633535519929,
     "user": {
      "displayName": "규",
      "photoUrl": "https://lh3.googleusercontent.com/a/default-user=s64",
      "userId": "10356754072138524849"
     },
     "user_tz": -540
    },
    "id": "vH8hD1aeM3_0",
    "outputId": "dbc4a8f9-ffd7-49dc-8870-e3f145f96ab2"
   },
   "outputs": [
    {
     "name": "stdout",
     "output_type": "stream",
     "text": [
      "Train Epoch: 1 [0/60000 (0%)]\tLoss: 0.058113\n",
      "Train Epoch: 1 [10000/60000 (17%)]\tLoss: 0.087910\n",
      "Train Epoch: 1 [20000/60000 (33%)]\tLoss: 0.085704\n",
      "Train Epoch: 1 [30000/60000 (50%)]\tLoss: 0.078875\n",
      "Train Epoch: 1 [40000/60000 (67%)]\tLoss: 0.083104\n",
      "Train Epoch: 1 [50000/60000 (83%)]\tLoss: 0.081971\n",
      "\n",
      "Test set: Average loss: 5.0950, Accuracy: 42/100 (42%)\n",
      "\n",
      "Train Epoch: 2 [0/60000 (0%)]\tLoss: 0.100542\n",
      "Train Epoch: 2 [10000/60000 (17%)]\tLoss: 0.062760\n",
      "Train Epoch: 2 [20000/60000 (33%)]\tLoss: 0.088084\n",
      "Train Epoch: 2 [30000/60000 (50%)]\tLoss: 0.071764\n",
      "Train Epoch: 2 [40000/60000 (67%)]\tLoss: 0.079366\n",
      "Train Epoch: 2 [50000/60000 (83%)]\tLoss: 0.072392\n",
      "\n",
      "Test set: Average loss: 4.4723, Accuracy: 44/100 (44%)\n",
      "\n",
      "Train Epoch: 3 [0/60000 (0%)]\tLoss: 0.059386\n",
      "Train Epoch: 3 [10000/60000 (17%)]\tLoss: 0.074518\n",
      "Train Epoch: 3 [20000/60000 (33%)]\tLoss: 0.064922\n",
      "Train Epoch: 3 [30000/60000 (50%)]\tLoss: 0.048030\n",
      "Train Epoch: 3 [40000/60000 (67%)]\tLoss: 0.041361\n",
      "Train Epoch: 3 [50000/60000 (83%)]\tLoss: 0.101245\n",
      "\n",
      "Test set: Average loss: 4.2524, Accuracy: 48/100 (48%)\n",
      "\n",
      "Train Epoch: 4 [0/60000 (0%)]\tLoss: 0.076692\n",
      "Train Epoch: 4 [10000/60000 (17%)]\tLoss: 0.075785\n",
      "Train Epoch: 4 [20000/60000 (33%)]\tLoss: 0.062507\n",
      "Train Epoch: 4 [30000/60000 (50%)]\tLoss: 0.056102\n",
      "Train Epoch: 4 [40000/60000 (67%)]\tLoss: 0.058094\n",
      "Train Epoch: 4 [50000/60000 (83%)]\tLoss: 0.065361\n",
      "\n",
      "Test set: Average loss: 3.8130, Accuracy: 52/100 (52%)\n",
      "\n",
      "Train Epoch: 5 [0/60000 (0%)]\tLoss: 0.070054\n",
      "Train Epoch: 5 [10000/60000 (17%)]\tLoss: 0.053340\n",
      "Train Epoch: 5 [20000/60000 (33%)]\tLoss: 0.033307\n",
      "Train Epoch: 5 [30000/60000 (50%)]\tLoss: 0.042018\n",
      "Train Epoch: 5 [40000/60000 (67%)]\tLoss: 0.066784\n",
      "Train Epoch: 5 [50000/60000 (83%)]\tLoss: 0.037697\n",
      "\n",
      "Test set: Average loss: 3.9122, Accuracy: 52/100 (52%)\n",
      "\n",
      "Train Epoch: 6 [0/60000 (0%)]\tLoss: 0.040147\n",
      "Train Epoch: 6 [10000/60000 (17%)]\tLoss: 0.044170\n",
      "Train Epoch: 6 [20000/60000 (33%)]\tLoss: 0.051274\n",
      "Train Epoch: 6 [30000/60000 (50%)]\tLoss: 0.052712\n",
      "Train Epoch: 6 [40000/60000 (67%)]\tLoss: 0.056382\n",
      "Train Epoch: 6 [50000/60000 (83%)]\tLoss: 0.034476\n",
      "\n",
      "Test set: Average loss: 4.3594, Accuracy: 52/100 (52%)\n",
      "\n",
      "Train Epoch: 7 [0/60000 (0%)]\tLoss: 0.043654\n",
      "Train Epoch: 7 [10000/60000 (17%)]\tLoss: 0.058747\n",
      "Train Epoch: 7 [20000/60000 (33%)]\tLoss: 0.047813\n",
      "Train Epoch: 7 [30000/60000 (50%)]\tLoss: 0.035146\n",
      "Train Epoch: 7 [40000/60000 (67%)]\tLoss: 0.055722\n",
      "Train Epoch: 7 [50000/60000 (83%)]\tLoss: 0.038387\n",
      "\n",
      "Test set: Average loss: 3.2124, Accuracy: 61/100 (61%)\n",
      "\n",
      "Train Epoch: 8 [0/60000 (0%)]\tLoss: 0.033792\n",
      "Train Epoch: 8 [10000/60000 (17%)]\tLoss: 0.043546\n",
      "Train Epoch: 8 [20000/60000 (33%)]\tLoss: 0.045154\n",
      "Train Epoch: 8 [30000/60000 (50%)]\tLoss: 0.032588\n",
      "Train Epoch: 8 [40000/60000 (67%)]\tLoss: 0.036930\n",
      "Train Epoch: 8 [50000/60000 (83%)]\tLoss: 0.039479\n",
      "\n",
      "Test set: Average loss: 3.9485, Accuracy: 57/100 (57%)\n",
      "\n",
      "Train Epoch: 9 [0/60000 (0%)]\tLoss: 0.032550\n",
      "Train Epoch: 9 [10000/60000 (17%)]\tLoss: 0.038584\n",
      "Train Epoch: 9 [20000/60000 (33%)]\tLoss: 0.031746\n",
      "Train Epoch: 9 [30000/60000 (50%)]\tLoss: 0.032928\n",
      "Train Epoch: 9 [40000/60000 (67%)]\tLoss: 0.045140\n",
      "Train Epoch: 9 [50000/60000 (83%)]\tLoss: 0.045704\n",
      "\n",
      "Test set: Average loss: 3.1420, Accuracy: 64/100 (64%)\n",
      "\n",
      "Train Epoch: 10 [0/60000 (0%)]\tLoss: 0.051004\n",
      "Train Epoch: 10 [10000/60000 (17%)]\tLoss: 0.045115\n",
      "Train Epoch: 10 [20000/60000 (33%)]\tLoss: 0.039586\n",
      "Train Epoch: 10 [30000/60000 (50%)]\tLoss: 0.052961\n",
      "Train Epoch: 10 [40000/60000 (67%)]\tLoss: 0.051216\n",
      "Train Epoch: 10 [50000/60000 (83%)]\tLoss: 0.054711\n",
      "\n",
      "Test set: Average loss: 4.3562, Accuracy: 56/100 (56%)\n",
      "\n"
     ]
    }
   ],
   "source": [
    "# GPU usage\n",
    "if args['cuda']:\n",
    "    model.cuda()\n",
    "\n",
    "# Define the optimizer\n",
    "optimizer = optim.Adam(model.parameters(), lr=0.001)\n",
    "\n",
    "# Train & Test for defined epochs\n",
    "for epoch in range(1, 11):\n",
    "    train(epoch)\n",
    "    test(print_class_accuracy=False)"
   ]
  },
  {
   "cell_type": "code",
   "execution_count": 29,
   "metadata": {
    "colab": {
     "base_uri": "https://localhost:8080/"
    },
    "executionInfo": {
     "elapsed": 259,
     "status": "ok",
     "timestamp": 1633535863606,
     "user": {
      "displayName": "규",
      "photoUrl": "https://lh3.googleusercontent.com/a/default-user=s64",
      "userId": "10356754072138524849"
     },
     "user_tz": -540
    },
    "id": "7NnLGOwqGSdw",
    "outputId": "bb85c149-4ac9-42ec-a394-254c5322b621"
   },
   "outputs": [
    {
     "name": "stdout",
     "output_type": "stream",
     "text": [
      "torch.Size([100, 1, 32, 32])\n"
     ]
    }
   ],
   "source": [
    "for data, target in test_loader:\n",
    "  print(data.shape)"
   ]
  },
  {
   "cell_type": "code",
   "execution_count": 30,
   "metadata": {
    "colab": {
     "base_uri": "https://localhost:8080/"
    },
    "executionInfo": {
     "elapsed": 6,
     "status": "ok",
     "timestamp": 1633535864886,
     "user": {
      "displayName": "규",
      "photoUrl": "https://lh3.googleusercontent.com/a/default-user=s64",
      "userId": "10356754072138524849"
     },
     "user_tz": -540
    },
    "id": "AN7RTxvOGccb",
    "outputId": "563891de-986f-4a0c-99cd-9a8bc386d5f4"
   },
   "outputs": [
    {
     "data": {
      "text/plain": [
       "tensor([[0, 0, 0, 0, 2, 0, 0, 2, 0, 0],\n",
       "        [1, 1, 1, 1, 1, 3, 1, 1, 1, 1],\n",
       "        [2, 2, 2, 2, 2, 2, 2, 2, 2, 2],\n",
       "        [3, 3, 5, 3, 3, 3, 3, 3, 3, 3],\n",
       "        [2, 2, 2, 2, 4, 2, 1, 2, 2, 2],\n",
       "        [5, 5, 3, 5, 5, 3, 5, 5, 3, 3],\n",
       "        [2, 5, 5, 5, 5, 5, 2, 2, 2, 5],\n",
       "        [7, 7, 7, 7, 7, 7, 7, 7, 7, 7],\n",
       "        [3, 3, 3, 5, 5, 5, 3, 2, 8, 3],\n",
       "        [7, 7, 7, 9, 7, 5, 9, 7, 7, 4]])"
      ]
     },
     "execution_count": 30,
     "metadata": {},
     "output_type": "execute_result"
    }
   ],
   "source": [
    "output = model(data.cuda())\n",
    "pred = output.data.max(1, keepdim=True)[1]\n",
    "torch.reshape(pred.cpu()[0:100],(10,10))"
   ]
  },
  {
   "cell_type": "markdown",
   "metadata": {
    "id": "beUSUE5caLOH"
   },
   "source": [
    "먼저 이미지를 전처리하였다. 전처리 과정에선 기존의 영상을 이진화하고 모폴로지 연산을 적용한 이후 이미지 contour를 통해 글자가 가운데에 오게 하였다.\n",
    "\n",
    "모폴로지 연산을 수행하는 중 코랩에서 코드가 돌아가지 않아 내 PC의 주피터 노트북에서 이미지 전처리 과정을 거치고 전처리 된 이미지를 다시 드라이브에 올려서 테스트를 하게 되었다. 이와 관련된 코드는 오류가 발생함에도 위에 써 두었다.\n",
    "이후 이 데이터셋과 함께 기존 LeNet모델에서 활성화함수를 Relu로 변경한 모델에 대해 모델 Train과 Test를 함께 진행한 결과 Test accuracy를 56~64%수준으로 올릴 수 있었다.\n",
    "\n",
    " 이 이상의 개선 방안을 찾아보자면 먼저 이미지를 처리하는 부분에서 더 나은 방법이 있을 것이라고 생각이 든다. Mnist데이터를 통해 손글씨를 인식할 때는 글씨가 가운데에 위치해있는 것이 상당히 중요하다. 이를 위해 contour를 적용했지만 모양을 보면 Mnist data와는 조금 다른 것이 느껴진다.내 이미지는 Mnist와 비교해 다소 꽉 차고 두꺼운 느낌이 드는데 이미지 전처리 이후 Mnist와 더 비슷한 모양으로 만들 수 있다면 높은 정확도를 보일 것으로 예측된다\n",
    "\n",
    "\n",
    "두 번째 개선점은 CNN model에 있다. LeNet을 기반으로 만들었지만 활성화함수는 AlexNet을 참고해 Relu를 사용하였다. 이 경우 연산을 진행할 때 convolution이나 fully connected layer연산을 적용하는 횟수, 혹은 이런 연산을 진행할 때 더 적절한 사이즈 달라질 수 있다고 생각한다.\n",
    "\n",
    "또한 바로 위의 코드에서는 어떤 숫자를 잘 인식하고 어떤 숫자를 인식하지 못했는지를 파악할 수 있었다. 그 결과 모델은 0,1,2,3,5,7의 경우에는 대체로 잘 인식하였지만 4는 대부분 2로 잘못 인식하였으며 6,8,9에 대해서도 낮은 정확도를 보였다."
   ]
  },
  {
   "cell_type": "code",
   "execution_count": 32,
   "metadata": {
    "colab": {
     "base_uri": "https://localhost:8080/"
    },
    "executionInfo": {
     "elapsed": 155371,
     "status": "ok",
     "timestamp": 1633537922307,
     "user": {
      "displayName": "규",
      "photoUrl": "https://lh3.googleusercontent.com/a/default-user=s64",
      "userId": "10356754072138524849"
     },
     "user_tz": -540
    },
    "id": "YlhEunQgNAtQ",
    "outputId": "1ce145ea-0e8e-4982-b4a6-22367dbd26e3"
   },
   "outputs": [
    {
     "name": "stderr",
     "output_type": "stream",
     "text": [
      "/usr/local/lib/python3.7/dist-packages/torch/nn/functional.py:718: UserWarning: Named tensors and all their associated APIs are an experimental feature and subject to change. Please do not use them for anything important until they are released as stable. (Triggered internally at  /pytorch/c10/core/TensorImpl.h:1156.)\n",
      "  return torch.max_pool2d(input, kernel_size, stride, padding, dilation, ceil_mode)\n"
     ]
    },
    {
     "name": "stdout",
     "output_type": "stream",
     "text": [
      "Train Epoch: 1 [0/60000 (0%)]\tLoss: 2.304932\n",
      "Train Epoch: 1 [10000/60000 (17%)]\tLoss: 2.145413\n",
      "Train Epoch: 1 [20000/60000 (33%)]\tLoss: 1.609441\n",
      "Train Epoch: 1 [30000/60000 (50%)]\tLoss: 0.892699\n",
      "Train Epoch: 1 [40000/60000 (67%)]\tLoss: 0.526086\n",
      "Train Epoch: 1 [50000/60000 (83%)]\tLoss: 0.455828\n",
      "\n",
      "Test set: Average loss: 4.9289, Accuracy: 30/100 (30%)\n",
      "\n",
      "Train Epoch: 2 [0/60000 (0%)]\tLoss: 0.406323\n",
      "Train Epoch: 2 [10000/60000 (17%)]\tLoss: 0.272657\n",
      "Train Epoch: 2 [20000/60000 (33%)]\tLoss: 0.301799\n",
      "Train Epoch: 2 [30000/60000 (50%)]\tLoss: 0.314700\n",
      "Train Epoch: 2 [40000/60000 (67%)]\tLoss: 0.302542\n",
      "Train Epoch: 2 [50000/60000 (83%)]\tLoss: 0.245919\n",
      "\n",
      "Test set: Average loss: 5.8718, Accuracy: 33/100 (33%)\n",
      "\n",
      "Train Epoch: 3 [0/60000 (0%)]\tLoss: 0.193590\n",
      "Train Epoch: 3 [10000/60000 (17%)]\tLoss: 0.220258\n",
      "Train Epoch: 3 [20000/60000 (33%)]\tLoss: 0.225844\n",
      "Train Epoch: 3 [30000/60000 (50%)]\tLoss: 0.204898\n",
      "Train Epoch: 3 [40000/60000 (67%)]\tLoss: 0.217884\n",
      "Train Epoch: 3 [50000/60000 (83%)]\tLoss: 0.197221\n",
      "\n",
      "Test set: Average loss: 5.9205, Accuracy: 37/100 (37%)\n",
      "\n",
      "Train Epoch: 4 [0/60000 (0%)]\tLoss: 0.157089\n",
      "Train Epoch: 4 [10000/60000 (17%)]\tLoss: 0.147978\n",
      "Train Epoch: 4 [20000/60000 (33%)]\tLoss: 0.142585\n",
      "Train Epoch: 4 [30000/60000 (50%)]\tLoss: 0.145332\n",
      "Train Epoch: 4 [40000/60000 (67%)]\tLoss: 0.140433\n",
      "Train Epoch: 4 [50000/60000 (83%)]\tLoss: 0.158178\n",
      "\n",
      "Test set: Average loss: 5.2275, Accuracy: 42/100 (42%)\n",
      "\n",
      "Train Epoch: 5 [0/60000 (0%)]\tLoss: 0.114551\n",
      "Train Epoch: 5 [10000/60000 (17%)]\tLoss: 0.103739\n",
      "Train Epoch: 5 [20000/60000 (33%)]\tLoss: 0.122945\n",
      "Train Epoch: 5 [30000/60000 (50%)]\tLoss: 0.091631\n",
      "Train Epoch: 5 [40000/60000 (67%)]\tLoss: 0.110823\n",
      "Train Epoch: 5 [50000/60000 (83%)]\tLoss: 0.136614\n",
      "\n",
      "Test set: Average loss: 4.4945, Accuracy: 51/100 (51%)\n",
      "\n",
      "Train Epoch: 6 [0/60000 (0%)]\tLoss: 0.090421\n",
      "Train Epoch: 6 [10000/60000 (17%)]\tLoss: 0.104312\n",
      "Train Epoch: 6 [20000/60000 (33%)]\tLoss: 0.066313\n",
      "Train Epoch: 6 [30000/60000 (50%)]\tLoss: 0.078012\n",
      "Train Epoch: 6 [40000/60000 (67%)]\tLoss: 0.077411\n",
      "Train Epoch: 6 [50000/60000 (83%)]\tLoss: 0.085810\n",
      "\n",
      "Test set: Average loss: 4.3744, Accuracy: 55/100 (55%)\n",
      "\n",
      "Train Epoch: 7 [0/60000 (0%)]\tLoss: 0.083010\n",
      "Train Epoch: 7 [10000/60000 (17%)]\tLoss: 0.090355\n",
      "Train Epoch: 7 [20000/60000 (33%)]\tLoss: 0.069350\n",
      "Train Epoch: 7 [30000/60000 (50%)]\tLoss: 0.084181\n",
      "Train Epoch: 7 [40000/60000 (67%)]\tLoss: 0.069067\n",
      "Train Epoch: 7 [50000/60000 (83%)]\tLoss: 0.061103\n",
      "\n",
      "Test set: Average loss: 4.0353, Accuracy: 61/100 (61%)\n",
      "\n",
      "Train Epoch: 8 [0/60000 (0%)]\tLoss: 0.097931\n",
      "Train Epoch: 8 [10000/60000 (17%)]\tLoss: 0.066386\n",
      "Train Epoch: 8 [20000/60000 (33%)]\tLoss: 0.075058\n",
      "Train Epoch: 8 [30000/60000 (50%)]\tLoss: 0.096691\n",
      "Train Epoch: 8 [40000/60000 (67%)]\tLoss: 0.043786\n",
      "Train Epoch: 8 [50000/60000 (83%)]\tLoss: 0.051777\n",
      "\n",
      "Test set: Average loss: 4.1349, Accuracy: 61/100 (61%)\n",
      "\n",
      "Train Epoch: 9 [0/60000 (0%)]\tLoss: 0.068615\n",
      "Train Epoch: 9 [10000/60000 (17%)]\tLoss: 0.075471\n",
      "Train Epoch: 9 [20000/60000 (33%)]\tLoss: 0.054605\n",
      "Train Epoch: 9 [30000/60000 (50%)]\tLoss: 0.049779\n",
      "Train Epoch: 9 [40000/60000 (67%)]\tLoss: 0.051077\n",
      "Train Epoch: 9 [50000/60000 (83%)]\tLoss: 0.044091\n",
      "\n",
      "Test set: Average loss: 4.0551, Accuracy: 61/100 (61%)\n",
      "\n",
      "Train Epoch: 10 [0/60000 (0%)]\tLoss: 0.056854\n",
      "Train Epoch: 10 [10000/60000 (17%)]\tLoss: 0.053515\n",
      "Train Epoch: 10 [20000/60000 (33%)]\tLoss: 0.030418\n",
      "Train Epoch: 10 [30000/60000 (50%)]\tLoss: 0.095682\n",
      "Train Epoch: 10 [40000/60000 (67%)]\tLoss: 0.035638\n",
      "Train Epoch: 10 [50000/60000 (83%)]\tLoss: 0.059651\n",
      "\n",
      "Test set: Average loss: 3.9681, Accuracy: 60/100 (60%)\n",
      "\n"
     ]
    }
   ],
   "source": [
    "model=Net()\n",
    "# GPU usage\n",
    "if args['cuda']:\n",
    "    model.cuda()\n",
    "\n",
    "# Define the optimizer\n",
    "optimizer = optim.Adam(model.parameters(), lr=0.001)\n",
    "\n",
    "# Train & Test for defined epochs\n",
    "for epoch in range(1, 11):\n",
    "    train(epoch)\n",
    "    test(print_class_accuracy=False)"
   ]
  },
  {
   "cell_type": "markdown",
   "metadata": {
    "id": "MpedVfm4cuIw"
   },
   "source": [
    "재미있게도 예제로 주어진 Net으로 모델을 돌린 경우에도 60%정도의 Accuracy가 나오며 수정한 LeNet을 사용했을 때와 비슷한 수준의 결과가 나왔다.\n",
    "이 파일에서 본 3개의 CNN모델에서 유의미한 성능 차이는 Activation function으로 Relu를 사용하느냐였다고 생각한다. 또한 이미지에서 글씨 위치, 크기와 이미지 전처리 과정등이 손글씨 인식 성능향상에서 중요한 부분임을 알 수 있었다"
   ]
  },
  {
   "cell_type": "code",
   "execution_count": null,
   "metadata": {
    "id": "EmjroYEvcDLc"
   },
   "outputs": [],
   "source": []
  }
 ],
 "metadata": {
  "accelerator": "GPU",
  "colab": {
   "collapsed_sections": [],
   "name": "2018142192_최순규_assignment4.ipynb",
   "provenance": []
  },
  "kernelspec": {
   "display_name": "Python 3",
   "language": "python",
   "name": "python3"
  },
  "language_info": {
   "codemirror_mode": {
    "name": "ipython",
    "version": 3
   },
   "file_extension": ".py",
   "mimetype": "text/x-python",
   "name": "python",
   "nbconvert_exporter": "python",
   "pygments_lexer": "ipython3",
   "version": "3.8.8"
  },
  "widgets": {
   "application/vnd.jupyter.widget-state+json": {
    "0cb293c5d06643aea53023b3972ff3f5": {
     "model_module": "@jupyter-widgets/base",
     "model_module_version": "1.2.0",
     "model_name": "LayoutModel",
     "state": {
      "_model_module": "@jupyter-widgets/base",
      "_model_module_version": "1.2.0",
      "_model_name": "LayoutModel",
      "_view_count": null,
      "_view_module": "@jupyter-widgets/base",
      "_view_module_version": "1.2.0",
      "_view_name": "LayoutView",
      "align_content": null,
      "align_items": null,
      "align_self": null,
      "border": null,
      "bottom": null,
      "display": null,
      "flex": null,
      "flex_flow": null,
      "grid_area": null,
      "grid_auto_columns": null,
      "grid_auto_flow": null,
      "grid_auto_rows": null,
      "grid_column": null,
      "grid_gap": null,
      "grid_row": null,
      "grid_template_areas": null,
      "grid_template_columns": null,
      "grid_template_rows": null,
      "height": null,
      "justify_content": null,
      "justify_items": null,
      "left": null,
      "margin": null,
      "max_height": null,
      "max_width": null,
      "min_height": null,
      "min_width": null,
      "object_fit": null,
      "object_position": null,
      "order": null,
      "overflow": null,
      "overflow_x": null,
      "overflow_y": null,
      "padding": null,
      "right": null,
      "top": null,
      "visibility": null,
      "width": null
     }
    },
    "179018071b0a402a9a4f9242a624446a": {
     "model_module": "@jupyter-widgets/controls",
     "model_module_version": "1.5.0",
     "model_name": "DescriptionStyleModel",
     "state": {
      "_model_module": "@jupyter-widgets/controls",
      "_model_module_version": "1.5.0",
      "_model_name": "DescriptionStyleModel",
      "_view_count": null,
      "_view_module": "@jupyter-widgets/base",
      "_view_module_version": "1.2.0",
      "_view_name": "StyleView",
      "description_width": ""
     }
    },
    "1c3f7c7ea57e40329bc98128e9f47146": {
     "model_module": "@jupyter-widgets/base",
     "model_module_version": "1.2.0",
     "model_name": "LayoutModel",
     "state": {
      "_model_module": "@jupyter-widgets/base",
      "_model_module_version": "1.2.0",
      "_model_name": "LayoutModel",
      "_view_count": null,
      "_view_module": "@jupyter-widgets/base",
      "_view_module_version": "1.2.0",
      "_view_name": "LayoutView",
      "align_content": null,
      "align_items": null,
      "align_self": null,
      "border": null,
      "bottom": null,
      "display": null,
      "flex": null,
      "flex_flow": null,
      "grid_area": null,
      "grid_auto_columns": null,
      "grid_auto_flow": null,
      "grid_auto_rows": null,
      "grid_column": null,
      "grid_gap": null,
      "grid_row": null,
      "grid_template_areas": null,
      "grid_template_columns": null,
      "grid_template_rows": null,
      "height": null,
      "justify_content": null,
      "justify_items": null,
      "left": null,
      "margin": null,
      "max_height": null,
      "max_width": null,
      "min_height": null,
      "min_width": null,
      "object_fit": null,
      "object_position": null,
      "order": null,
      "overflow": null,
      "overflow_x": null,
      "overflow_y": null,
      "padding": null,
      "right": null,
      "top": null,
      "visibility": null,
      "width": null
     }
    },
    "2fc12215b7cd44d8b8ab0eb05ac17398": {
     "model_module": "@jupyter-widgets/controls",
     "model_module_version": "1.5.0",
     "model_name": "ProgressStyleModel",
     "state": {
      "_model_module": "@jupyter-widgets/controls",
      "_model_module_version": "1.5.0",
      "_model_name": "ProgressStyleModel",
      "_view_count": null,
      "_view_module": "@jupyter-widgets/base",
      "_view_module_version": "1.2.0",
      "_view_name": "StyleView",
      "bar_color": null,
      "description_width": ""
     }
    },
    "31b1b65513a742a39a1bef281c3c214d": {
     "model_module": "@jupyter-widgets/controls",
     "model_module_version": "1.5.0",
     "model_name": "HTMLModel",
     "state": {
      "_dom_classes": [],
      "_model_module": "@jupyter-widgets/controls",
      "_model_module_version": "1.5.0",
      "_model_name": "HTMLModel",
      "_view_count": null,
      "_view_module": "@jupyter-widgets/controls",
      "_view_module_version": "1.5.0",
      "_view_name": "HTMLView",
      "description": "",
      "description_tooltip": null,
      "layout": "IPY_MODEL_923628b89de1419c8cfddfe0497cd331",
      "placeholder": "​",
      "style": "IPY_MODEL_b68e458171bb4f1db6f889321423ba85",
      "value": " 5120/? [00:00&lt;00:00, 111736.37it/s]"
     }
    },
    "371fc706dca24eae9753acb6f52751fc": {
     "model_module": "@jupyter-widgets/controls",
     "model_module_version": "1.5.0",
     "model_name": "DescriptionStyleModel",
     "state": {
      "_model_module": "@jupyter-widgets/controls",
      "_model_module_version": "1.5.0",
      "_model_name": "DescriptionStyleModel",
      "_view_count": null,
      "_view_module": "@jupyter-widgets/base",
      "_view_module_version": "1.2.0",
      "_view_name": "StyleView",
      "description_width": ""
     }
    },
    "3a0ec918b1134d7ebfd8cbab625a31af": {
     "model_module": "@jupyter-widgets/controls",
     "model_module_version": "1.5.0",
     "model_name": "ProgressStyleModel",
     "state": {
      "_model_module": "@jupyter-widgets/controls",
      "_model_module_version": "1.5.0",
      "_model_name": "ProgressStyleModel",
      "_view_count": null,
      "_view_module": "@jupyter-widgets/base",
      "_view_module_version": "1.2.0",
      "_view_name": "StyleView",
      "bar_color": null,
      "description_width": ""
     }
    },
    "46555925eb114a7db7072ee97814600e": {
     "model_module": "@jupyter-widgets/base",
     "model_module_version": "1.2.0",
     "model_name": "LayoutModel",
     "state": {
      "_model_module": "@jupyter-widgets/base",
      "_model_module_version": "1.2.0",
      "_model_name": "LayoutModel",
      "_view_count": null,
      "_view_module": "@jupyter-widgets/base",
      "_view_module_version": "1.2.0",
      "_view_name": "LayoutView",
      "align_content": null,
      "align_items": null,
      "align_self": null,
      "border": null,
      "bottom": null,
      "display": null,
      "flex": null,
      "flex_flow": null,
      "grid_area": null,
      "grid_auto_columns": null,
      "grid_auto_flow": null,
      "grid_auto_rows": null,
      "grid_column": null,
      "grid_gap": null,
      "grid_row": null,
      "grid_template_areas": null,
      "grid_template_columns": null,
      "grid_template_rows": null,
      "height": null,
      "justify_content": null,
      "justify_items": null,
      "left": null,
      "margin": null,
      "max_height": null,
      "max_width": null,
      "min_height": null,
      "min_width": null,
      "object_fit": null,
      "object_position": null,
      "order": null,
      "overflow": null,
      "overflow_x": null,
      "overflow_y": null,
      "padding": null,
      "right": null,
      "top": null,
      "visibility": null,
      "width": null
     }
    },
    "4cb2bf63ad84498d967ca00f31e0c087": {
     "model_module": "@jupyter-widgets/base",
     "model_module_version": "1.2.0",
     "model_name": "LayoutModel",
     "state": {
      "_model_module": "@jupyter-widgets/base",
      "_model_module_version": "1.2.0",
      "_model_name": "LayoutModel",
      "_view_count": null,
      "_view_module": "@jupyter-widgets/base",
      "_view_module_version": "1.2.0",
      "_view_name": "LayoutView",
      "align_content": null,
      "align_items": null,
      "align_self": null,
      "border": null,
      "bottom": null,
      "display": null,
      "flex": null,
      "flex_flow": null,
      "grid_area": null,
      "grid_auto_columns": null,
      "grid_auto_flow": null,
      "grid_auto_rows": null,
      "grid_column": null,
      "grid_gap": null,
      "grid_row": null,
      "grid_template_areas": null,
      "grid_template_columns": null,
      "grid_template_rows": null,
      "height": null,
      "justify_content": null,
      "justify_items": null,
      "left": null,
      "margin": null,
      "max_height": null,
      "max_width": null,
      "min_height": null,
      "min_width": null,
      "object_fit": null,
      "object_position": null,
      "order": null,
      "overflow": null,
      "overflow_x": null,
      "overflow_y": null,
      "padding": null,
      "right": null,
      "top": null,
      "visibility": null,
      "width": null
     }
    },
    "5a3690e8c6544917a9068dd7807cb2e8": {
     "model_module": "@jupyter-widgets/controls",
     "model_module_version": "1.5.0",
     "model_name": "FloatProgressModel",
     "state": {
      "_dom_classes": [],
      "_model_module": "@jupyter-widgets/controls",
      "_model_module_version": "1.5.0",
      "_model_name": "FloatProgressModel",
      "_view_count": null,
      "_view_module": "@jupyter-widgets/controls",
      "_view_module_version": "1.5.0",
      "_view_name": "ProgressView",
      "bar_style": "success",
      "description": "",
      "description_tooltip": null,
      "layout": "IPY_MODEL_78eebaa677544f959b2daa67c79dc306",
      "max": 1648877,
      "min": 0,
      "orientation": "horizontal",
      "style": "IPY_MODEL_2fc12215b7cd44d8b8ab0eb05ac17398",
      "value": 1648877
     }
    },
    "62879e1033f2422c9ab8b8cf1f5cb6ab": {
     "model_module": "@jupyter-widgets/controls",
     "model_module_version": "1.5.0",
     "model_name": "HTMLModel",
     "state": {
      "_dom_classes": [],
      "_model_module": "@jupyter-widgets/controls",
      "_model_module_version": "1.5.0",
      "_model_name": "HTMLModel",
      "_view_count": null,
      "_view_module": "@jupyter-widgets/controls",
      "_view_module_version": "1.5.0",
      "_view_name": "HTMLView",
      "description": "",
      "description_tooltip": null,
      "layout": "IPY_MODEL_f7b88c5f38f04a70a82004baf104a5cc",
      "placeholder": "​",
      "style": "IPY_MODEL_f14bcd0c6c1045fab35a304fcc8b4a95",
      "value": " 29696/? [00:00&lt;00:00, 661374.70it/s]"
     }
    },
    "67a097846fef4e69ba62c8be0b4fce9b": {
     "model_module": "@jupyter-widgets/controls",
     "model_module_version": "1.5.0",
     "model_name": "HBoxModel",
     "state": {
      "_dom_classes": [],
      "_model_module": "@jupyter-widgets/controls",
      "_model_module_version": "1.5.0",
      "_model_name": "HBoxModel",
      "_view_count": null,
      "_view_module": "@jupyter-widgets/controls",
      "_view_module_version": "1.5.0",
      "_view_name": "HBoxView",
      "box_style": "",
      "children": [
       "IPY_MODEL_a7afdd6031294854bdb6370a55249e6a",
       "IPY_MODEL_b554a501b06d43918f72496f159526d7",
       "IPY_MODEL_b2012c476760472ab319779f3d77b255"
      ],
      "layout": "IPY_MODEL_1c3f7c7ea57e40329bc98128e9f47146"
     }
    },
    "7384933e61ff4be297210603c698f962": {
     "model_module": "@jupyter-widgets/controls",
     "model_module_version": "1.5.0",
     "model_name": "HTMLModel",
     "state": {
      "_dom_classes": [],
      "_model_module": "@jupyter-widgets/controls",
      "_model_module_version": "1.5.0",
      "_model_name": "HTMLModel",
      "_view_count": null,
      "_view_module": "@jupyter-widgets/controls",
      "_view_module_version": "1.5.0",
      "_view_name": "HTMLView",
      "description": "",
      "description_tooltip": null,
      "layout": "IPY_MODEL_f5e648d363b445708024243848d09654",
      "placeholder": "​",
      "style": "IPY_MODEL_b7d9f7727330407baf5882500c87d14d",
      "value": " 1649664/? [00:00&lt;00:00, 16332309.37it/s]"
     }
    },
    "74cb0db260b549df8225c36a70be5442": {
     "model_module": "@jupyter-widgets/controls",
     "model_module_version": "1.5.0",
     "model_name": "FloatProgressModel",
     "state": {
      "_dom_classes": [],
      "_model_module": "@jupyter-widgets/controls",
      "_model_module_version": "1.5.0",
      "_model_name": "FloatProgressModel",
      "_view_count": null,
      "_view_module": "@jupyter-widgets/controls",
      "_view_module_version": "1.5.0",
      "_view_name": "ProgressView",
      "bar_style": "success",
      "description": "",
      "description_tooltip": null,
      "layout": "IPY_MODEL_8efb0cc44da84c68ac82997fc7741be9",
      "max": 4542,
      "min": 0,
      "orientation": "horizontal",
      "style": "IPY_MODEL_3a0ec918b1134d7ebfd8cbab625a31af",
      "value": 4542
     }
    },
    "750e9c53cc6d4749ae21c7176fe948f4": {
     "model_module": "@jupyter-widgets/base",
     "model_module_version": "1.2.0",
     "model_name": "LayoutModel",
     "state": {
      "_model_module": "@jupyter-widgets/base",
      "_model_module_version": "1.2.0",
      "_model_name": "LayoutModel",
      "_view_count": null,
      "_view_module": "@jupyter-widgets/base",
      "_view_module_version": "1.2.0",
      "_view_name": "LayoutView",
      "align_content": null,
      "align_items": null,
      "align_self": null,
      "border": null,
      "bottom": null,
      "display": null,
      "flex": null,
      "flex_flow": null,
      "grid_area": null,
      "grid_auto_columns": null,
      "grid_auto_flow": null,
      "grid_auto_rows": null,
      "grid_column": null,
      "grid_gap": null,
      "grid_row": null,
      "grid_template_areas": null,
      "grid_template_columns": null,
      "grid_template_rows": null,
      "height": null,
      "justify_content": null,
      "justify_items": null,
      "left": null,
      "margin": null,
      "max_height": null,
      "max_width": null,
      "min_height": null,
      "min_width": null,
      "object_fit": null,
      "object_position": null,
      "order": null,
      "overflow": null,
      "overflow_x": null,
      "overflow_y": null,
      "padding": null,
      "right": null,
      "top": null,
      "visibility": null,
      "width": null
     }
    },
    "78eebaa677544f959b2daa67c79dc306": {
     "model_module": "@jupyter-widgets/base",
     "model_module_version": "1.2.0",
     "model_name": "LayoutModel",
     "state": {
      "_model_module": "@jupyter-widgets/base",
      "_model_module_version": "1.2.0",
      "_model_name": "LayoutModel",
      "_view_count": null,
      "_view_module": "@jupyter-widgets/base",
      "_view_module_version": "1.2.0",
      "_view_name": "LayoutView",
      "align_content": null,
      "align_items": null,
      "align_self": null,
      "border": null,
      "bottom": null,
      "display": null,
      "flex": null,
      "flex_flow": null,
      "grid_area": null,
      "grid_auto_columns": null,
      "grid_auto_flow": null,
      "grid_auto_rows": null,
      "grid_column": null,
      "grid_gap": null,
      "grid_row": null,
      "grid_template_areas": null,
      "grid_template_columns": null,
      "grid_template_rows": null,
      "height": null,
      "justify_content": null,
      "justify_items": null,
      "left": null,
      "margin": null,
      "max_height": null,
      "max_width": null,
      "min_height": null,
      "min_width": null,
      "object_fit": null,
      "object_position": null,
      "order": null,
      "overflow": null,
      "overflow_x": null,
      "overflow_y": null,
      "padding": null,
      "right": null,
      "top": null,
      "visibility": null,
      "width": null
     }
    },
    "79863d9013ed4445820ede817092c2ca": {
     "model_module": "@jupyter-widgets/controls",
     "model_module_version": "1.5.0",
     "model_name": "ProgressStyleModel",
     "state": {
      "_model_module": "@jupyter-widgets/controls",
      "_model_module_version": "1.5.0",
      "_model_name": "ProgressStyleModel",
      "_view_count": null,
      "_view_module": "@jupyter-widgets/base",
      "_view_module_version": "1.2.0",
      "_view_name": "StyleView",
      "bar_color": null,
      "description_width": ""
     }
    },
    "83d7af0f6de943709a1ee96818d3e7c1": {
     "model_module": "@jupyter-widgets/controls",
     "model_module_version": "1.5.0",
     "model_name": "HBoxModel",
     "state": {
      "_dom_classes": [],
      "_model_module": "@jupyter-widgets/controls",
      "_model_module_version": "1.5.0",
      "_model_name": "HBoxModel",
      "_view_count": null,
      "_view_module": "@jupyter-widgets/controls",
      "_view_module_version": "1.5.0",
      "_view_name": "HBoxView",
      "box_style": "",
      "children": [
       "IPY_MODEL_ce5dd2bb3c5a488eb6adbd934164c881",
       "IPY_MODEL_74cb0db260b549df8225c36a70be5442",
       "IPY_MODEL_31b1b65513a742a39a1bef281c3c214d"
      ],
      "layout": "IPY_MODEL_9193e039b51f41d79cf7b4747e0f4583"
     }
    },
    "8b1bd2c80fce44b293e95dc940e831de": {
     "model_module": "@jupyter-widgets/controls",
     "model_module_version": "1.5.0",
     "model_name": "ProgressStyleModel",
     "state": {
      "_model_module": "@jupyter-widgets/controls",
      "_model_module_version": "1.5.0",
      "_model_name": "ProgressStyleModel",
      "_view_count": null,
      "_view_module": "@jupyter-widgets/base",
      "_view_module_version": "1.2.0",
      "_view_name": "StyleView",
      "bar_color": null,
      "description_width": ""
     }
    },
    "8efb0cc44da84c68ac82997fc7741be9": {
     "model_module": "@jupyter-widgets/base",
     "model_module_version": "1.2.0",
     "model_name": "LayoutModel",
     "state": {
      "_model_module": "@jupyter-widgets/base",
      "_model_module_version": "1.2.0",
      "_model_name": "LayoutModel",
      "_view_count": null,
      "_view_module": "@jupyter-widgets/base",
      "_view_module_version": "1.2.0",
      "_view_name": "LayoutView",
      "align_content": null,
      "align_items": null,
      "align_self": null,
      "border": null,
      "bottom": null,
      "display": null,
      "flex": null,
      "flex_flow": null,
      "grid_area": null,
      "grid_auto_columns": null,
      "grid_auto_flow": null,
      "grid_auto_rows": null,
      "grid_column": null,
      "grid_gap": null,
      "grid_row": null,
      "grid_template_areas": null,
      "grid_template_columns": null,
      "grid_template_rows": null,
      "height": null,
      "justify_content": null,
      "justify_items": null,
      "left": null,
      "margin": null,
      "max_height": null,
      "max_width": null,
      "min_height": null,
      "min_width": null,
      "object_fit": null,
      "object_position": null,
      "order": null,
      "overflow": null,
      "overflow_x": null,
      "overflow_y": null,
      "padding": null,
      "right": null,
      "top": null,
      "visibility": null,
      "width": null
     }
    },
    "9193e039b51f41d79cf7b4747e0f4583": {
     "model_module": "@jupyter-widgets/base",
     "model_module_version": "1.2.0",
     "model_name": "LayoutModel",
     "state": {
      "_model_module": "@jupyter-widgets/base",
      "_model_module_version": "1.2.0",
      "_model_name": "LayoutModel",
      "_view_count": null,
      "_view_module": "@jupyter-widgets/base",
      "_view_module_version": "1.2.0",
      "_view_name": "LayoutView",
      "align_content": null,
      "align_items": null,
      "align_self": null,
      "border": null,
      "bottom": null,
      "display": null,
      "flex": null,
      "flex_flow": null,
      "grid_area": null,
      "grid_auto_columns": null,
      "grid_auto_flow": null,
      "grid_auto_rows": null,
      "grid_column": null,
      "grid_gap": null,
      "grid_row": null,
      "grid_template_areas": null,
      "grid_template_columns": null,
      "grid_template_rows": null,
      "height": null,
      "justify_content": null,
      "justify_items": null,
      "left": null,
      "margin": null,
      "max_height": null,
      "max_width": null,
      "min_height": null,
      "min_width": null,
      "object_fit": null,
      "object_position": null,
      "order": null,
      "overflow": null,
      "overflow_x": null,
      "overflow_y": null,
      "padding": null,
      "right": null,
      "top": null,
      "visibility": null,
      "width": null
     }
    },
    "923628b89de1419c8cfddfe0497cd331": {
     "model_module": "@jupyter-widgets/base",
     "model_module_version": "1.2.0",
     "model_name": "LayoutModel",
     "state": {
      "_model_module": "@jupyter-widgets/base",
      "_model_module_version": "1.2.0",
      "_model_name": "LayoutModel",
      "_view_count": null,
      "_view_module": "@jupyter-widgets/base",
      "_view_module_version": "1.2.0",
      "_view_name": "LayoutView",
      "align_content": null,
      "align_items": null,
      "align_self": null,
      "border": null,
      "bottom": null,
      "display": null,
      "flex": null,
      "flex_flow": null,
      "grid_area": null,
      "grid_auto_columns": null,
      "grid_auto_flow": null,
      "grid_auto_rows": null,
      "grid_column": null,
      "grid_gap": null,
      "grid_row": null,
      "grid_template_areas": null,
      "grid_template_columns": null,
      "grid_template_rows": null,
      "height": null,
      "justify_content": null,
      "justify_items": null,
      "left": null,
      "margin": null,
      "max_height": null,
      "max_width": null,
      "min_height": null,
      "min_width": null,
      "object_fit": null,
      "object_position": null,
      "order": null,
      "overflow": null,
      "overflow_x": null,
      "overflow_y": null,
      "padding": null,
      "right": null,
      "top": null,
      "visibility": null,
      "width": null
     }
    },
    "9c52dbacb2ec4c9fbb6159f339c9b446": {
     "model_module": "@jupyter-widgets/controls",
     "model_module_version": "1.5.0",
     "model_name": "HBoxModel",
     "state": {
      "_dom_classes": [],
      "_model_module": "@jupyter-widgets/controls",
      "_model_module_version": "1.5.0",
      "_model_name": "HBoxModel",
      "_view_count": null,
      "_view_module": "@jupyter-widgets/controls",
      "_view_module_version": "1.5.0",
      "_view_name": "HBoxView",
      "box_style": "",
      "children": [
       "IPY_MODEL_b74c46bfab6c4b29a350f6ad98c1b3d9",
       "IPY_MODEL_df02c0d60d594cbb89199f40dfd74320",
       "IPY_MODEL_62879e1033f2422c9ab8b8cf1f5cb6ab"
      ],
      "layout": "IPY_MODEL_0cb293c5d06643aea53023b3972ff3f5"
     }
    },
    "a1bf0daa0947471598f57ea7f8446bd5": {
     "model_module": "@jupyter-widgets/controls",
     "model_module_version": "1.5.0",
     "model_name": "HTMLModel",
     "state": {
      "_dom_classes": [],
      "_model_module": "@jupyter-widgets/controls",
      "_model_module_version": "1.5.0",
      "_model_name": "HTMLModel",
      "_view_count": null,
      "_view_module": "@jupyter-widgets/controls",
      "_view_module_version": "1.5.0",
      "_view_name": "HTMLView",
      "description": "",
      "description_tooltip": null,
      "layout": "IPY_MODEL_ec75c62dbad84bcaa63e2370317ee1ff",
      "placeholder": "​",
      "style": "IPY_MODEL_eb805a2997184c9b91544aa03efce219",
      "value": ""
     }
    },
    "a439824461fe4f4ebf6c17bac4e2ae7d": {
     "model_module": "@jupyter-widgets/controls",
     "model_module_version": "1.5.0",
     "model_name": "DescriptionStyleModel",
     "state": {
      "_model_module": "@jupyter-widgets/controls",
      "_model_module_version": "1.5.0",
      "_model_name": "DescriptionStyleModel",
      "_view_count": null,
      "_view_module": "@jupyter-widgets/base",
      "_view_module_version": "1.2.0",
      "_view_name": "StyleView",
      "description_width": ""
     }
    },
    "a7afdd6031294854bdb6370a55249e6a": {
     "model_module": "@jupyter-widgets/controls",
     "model_module_version": "1.5.0",
     "model_name": "HTMLModel",
     "state": {
      "_dom_classes": [],
      "_model_module": "@jupyter-widgets/controls",
      "_model_module_version": "1.5.0",
      "_model_name": "HTMLModel",
      "_view_count": null,
      "_view_module": "@jupyter-widgets/controls",
      "_view_module_version": "1.5.0",
      "_view_name": "HTMLView",
      "description": "",
      "description_tooltip": null,
      "layout": "IPY_MODEL_4cb2bf63ad84498d967ca00f31e0c087",
      "placeholder": "​",
      "style": "IPY_MODEL_b36b63f4d95c403e98a0ea5fe53a7593",
      "value": ""
     }
    },
    "a95320b2c2404ce0a285155d713bd776": {
     "model_module": "@jupyter-widgets/base",
     "model_module_version": "1.2.0",
     "model_name": "LayoutModel",
     "state": {
      "_model_module": "@jupyter-widgets/base",
      "_model_module_version": "1.2.0",
      "_model_name": "LayoutModel",
      "_view_count": null,
      "_view_module": "@jupyter-widgets/base",
      "_view_module_version": "1.2.0",
      "_view_name": "LayoutView",
      "align_content": null,
      "align_items": null,
      "align_self": null,
      "border": null,
      "bottom": null,
      "display": null,
      "flex": null,
      "flex_flow": null,
      "grid_area": null,
      "grid_auto_columns": null,
      "grid_auto_flow": null,
      "grid_auto_rows": null,
      "grid_column": null,
      "grid_gap": null,
      "grid_row": null,
      "grid_template_areas": null,
      "grid_template_columns": null,
      "grid_template_rows": null,
      "height": null,
      "justify_content": null,
      "justify_items": null,
      "left": null,
      "margin": null,
      "max_height": null,
      "max_width": null,
      "min_height": null,
      "min_width": null,
      "object_fit": null,
      "object_position": null,
      "order": null,
      "overflow": null,
      "overflow_x": null,
      "overflow_y": null,
      "padding": null,
      "right": null,
      "top": null,
      "visibility": null,
      "width": null
     }
    },
    "afe3198e69c44dda8a493a14b615868a": {
     "model_module": "@jupyter-widgets/base",
     "model_module_version": "1.2.0",
     "model_name": "LayoutModel",
     "state": {
      "_model_module": "@jupyter-widgets/base",
      "_model_module_version": "1.2.0",
      "_model_name": "LayoutModel",
      "_view_count": null,
      "_view_module": "@jupyter-widgets/base",
      "_view_module_version": "1.2.0",
      "_view_name": "LayoutView",
      "align_content": null,
      "align_items": null,
      "align_self": null,
      "border": null,
      "bottom": null,
      "display": null,
      "flex": null,
      "flex_flow": null,
      "grid_area": null,
      "grid_auto_columns": null,
      "grid_auto_flow": null,
      "grid_auto_rows": null,
      "grid_column": null,
      "grid_gap": null,
      "grid_row": null,
      "grid_template_areas": null,
      "grid_template_columns": null,
      "grid_template_rows": null,
      "height": null,
      "justify_content": null,
      "justify_items": null,
      "left": null,
      "margin": null,
      "max_height": null,
      "max_width": null,
      "min_height": null,
      "min_width": null,
      "object_fit": null,
      "object_position": null,
      "order": null,
      "overflow": null,
      "overflow_x": null,
      "overflow_y": null,
      "padding": null,
      "right": null,
      "top": null,
      "visibility": null,
      "width": null
     }
    },
    "b2012c476760472ab319779f3d77b255": {
     "model_module": "@jupyter-widgets/controls",
     "model_module_version": "1.5.0",
     "model_name": "HTMLModel",
     "state": {
      "_dom_classes": [],
      "_model_module": "@jupyter-widgets/controls",
      "_model_module_version": "1.5.0",
      "_model_name": "HTMLModel",
      "_view_count": null,
      "_view_module": "@jupyter-widgets/controls",
      "_view_module_version": "1.5.0",
      "_view_name": "HTMLView",
      "description": "",
      "description_tooltip": null,
      "layout": "IPY_MODEL_afe3198e69c44dda8a493a14b615868a",
      "placeholder": "​",
      "style": "IPY_MODEL_371fc706dca24eae9753acb6f52751fc",
      "value": " 9913344/? [00:00&lt;00:00, 38100154.25it/s]"
     }
    },
    "b36b63f4d95c403e98a0ea5fe53a7593": {
     "model_module": "@jupyter-widgets/controls",
     "model_module_version": "1.5.0",
     "model_name": "DescriptionStyleModel",
     "state": {
      "_model_module": "@jupyter-widgets/controls",
      "_model_module_version": "1.5.0",
      "_model_name": "DescriptionStyleModel",
      "_view_count": null,
      "_view_module": "@jupyter-widgets/base",
      "_view_module_version": "1.2.0",
      "_view_name": "StyleView",
      "description_width": ""
     }
    },
    "b554a501b06d43918f72496f159526d7": {
     "model_module": "@jupyter-widgets/controls",
     "model_module_version": "1.5.0",
     "model_name": "FloatProgressModel",
     "state": {
      "_dom_classes": [],
      "_model_module": "@jupyter-widgets/controls",
      "_model_module_version": "1.5.0",
      "_model_name": "FloatProgressModel",
      "_view_count": null,
      "_view_module": "@jupyter-widgets/controls",
      "_view_module_version": "1.5.0",
      "_view_name": "ProgressView",
      "bar_style": "success",
      "description": "",
      "description_tooltip": null,
      "layout": "IPY_MODEL_b70ee08eb94c4381a1ff4b23b2c7a67f",
      "max": 9912422,
      "min": 0,
      "orientation": "horizontal",
      "style": "IPY_MODEL_8b1bd2c80fce44b293e95dc940e831de",
      "value": 9912422
     }
    },
    "b68e458171bb4f1db6f889321423ba85": {
     "model_module": "@jupyter-widgets/controls",
     "model_module_version": "1.5.0",
     "model_name": "DescriptionStyleModel",
     "state": {
      "_model_module": "@jupyter-widgets/controls",
      "_model_module_version": "1.5.0",
      "_model_name": "DescriptionStyleModel",
      "_view_count": null,
      "_view_module": "@jupyter-widgets/base",
      "_view_module_version": "1.2.0",
      "_view_name": "StyleView",
      "description_width": ""
     }
    },
    "b70ee08eb94c4381a1ff4b23b2c7a67f": {
     "model_module": "@jupyter-widgets/base",
     "model_module_version": "1.2.0",
     "model_name": "LayoutModel",
     "state": {
      "_model_module": "@jupyter-widgets/base",
      "_model_module_version": "1.2.0",
      "_model_name": "LayoutModel",
      "_view_count": null,
      "_view_module": "@jupyter-widgets/base",
      "_view_module_version": "1.2.0",
      "_view_name": "LayoutView",
      "align_content": null,
      "align_items": null,
      "align_self": null,
      "border": null,
      "bottom": null,
      "display": null,
      "flex": null,
      "flex_flow": null,
      "grid_area": null,
      "grid_auto_columns": null,
      "grid_auto_flow": null,
      "grid_auto_rows": null,
      "grid_column": null,
      "grid_gap": null,
      "grid_row": null,
      "grid_template_areas": null,
      "grid_template_columns": null,
      "grid_template_rows": null,
      "height": null,
      "justify_content": null,
      "justify_items": null,
      "left": null,
      "margin": null,
      "max_height": null,
      "max_width": null,
      "min_height": null,
      "min_width": null,
      "object_fit": null,
      "object_position": null,
      "order": null,
      "overflow": null,
      "overflow_x": null,
      "overflow_y": null,
      "padding": null,
      "right": null,
      "top": null,
      "visibility": null,
      "width": null
     }
    },
    "b74c46bfab6c4b29a350f6ad98c1b3d9": {
     "model_module": "@jupyter-widgets/controls",
     "model_module_version": "1.5.0",
     "model_name": "HTMLModel",
     "state": {
      "_dom_classes": [],
      "_model_module": "@jupyter-widgets/controls",
      "_model_module_version": "1.5.0",
      "_model_name": "HTMLModel",
      "_view_count": null,
      "_view_module": "@jupyter-widgets/controls",
      "_view_module_version": "1.5.0",
      "_view_name": "HTMLView",
      "description": "",
      "description_tooltip": null,
      "layout": "IPY_MODEL_750e9c53cc6d4749ae21c7176fe948f4",
      "placeholder": "​",
      "style": "IPY_MODEL_a439824461fe4f4ebf6c17bac4e2ae7d",
      "value": ""
     }
    },
    "b7d9f7727330407baf5882500c87d14d": {
     "model_module": "@jupyter-widgets/controls",
     "model_module_version": "1.5.0",
     "model_name": "DescriptionStyleModel",
     "state": {
      "_model_module": "@jupyter-widgets/controls",
      "_model_module_version": "1.5.0",
      "_model_name": "DescriptionStyleModel",
      "_view_count": null,
      "_view_module": "@jupyter-widgets/base",
      "_view_module_version": "1.2.0",
      "_view_name": "StyleView",
      "description_width": ""
     }
    },
    "c7cd3d6510c04a88a544c5818f95ef5b": {
     "model_module": "@jupyter-widgets/base",
     "model_module_version": "1.2.0",
     "model_name": "LayoutModel",
     "state": {
      "_model_module": "@jupyter-widgets/base",
      "_model_module_version": "1.2.0",
      "_model_name": "LayoutModel",
      "_view_count": null,
      "_view_module": "@jupyter-widgets/base",
      "_view_module_version": "1.2.0",
      "_view_name": "LayoutView",
      "align_content": null,
      "align_items": null,
      "align_self": null,
      "border": null,
      "bottom": null,
      "display": null,
      "flex": null,
      "flex_flow": null,
      "grid_area": null,
      "grid_auto_columns": null,
      "grid_auto_flow": null,
      "grid_auto_rows": null,
      "grid_column": null,
      "grid_gap": null,
      "grid_row": null,
      "grid_template_areas": null,
      "grid_template_columns": null,
      "grid_template_rows": null,
      "height": null,
      "justify_content": null,
      "justify_items": null,
      "left": null,
      "margin": null,
      "max_height": null,
      "max_width": null,
      "min_height": null,
      "min_width": null,
      "object_fit": null,
      "object_position": null,
      "order": null,
      "overflow": null,
      "overflow_x": null,
      "overflow_y": null,
      "padding": null,
      "right": null,
      "top": null,
      "visibility": null,
      "width": null
     }
    },
    "c80d755c8f114646a572c49ccb882171": {
     "model_module": "@jupyter-widgets/controls",
     "model_module_version": "1.5.0",
     "model_name": "HBoxModel",
     "state": {
      "_dom_classes": [],
      "_model_module": "@jupyter-widgets/controls",
      "_model_module_version": "1.5.0",
      "_model_name": "HBoxModel",
      "_view_count": null,
      "_view_module": "@jupyter-widgets/controls",
      "_view_module_version": "1.5.0",
      "_view_name": "HBoxView",
      "box_style": "",
      "children": [
       "IPY_MODEL_a1bf0daa0947471598f57ea7f8446bd5",
       "IPY_MODEL_5a3690e8c6544917a9068dd7807cb2e8",
       "IPY_MODEL_7384933e61ff4be297210603c698f962"
      ],
      "layout": "IPY_MODEL_a95320b2c2404ce0a285155d713bd776"
     }
    },
    "ce5dd2bb3c5a488eb6adbd934164c881": {
     "model_module": "@jupyter-widgets/controls",
     "model_module_version": "1.5.0",
     "model_name": "HTMLModel",
     "state": {
      "_dom_classes": [],
      "_model_module": "@jupyter-widgets/controls",
      "_model_module_version": "1.5.0",
      "_model_name": "HTMLModel",
      "_view_count": null,
      "_view_module": "@jupyter-widgets/controls",
      "_view_module_version": "1.5.0",
      "_view_name": "HTMLView",
      "description": "",
      "description_tooltip": null,
      "layout": "IPY_MODEL_46555925eb114a7db7072ee97814600e",
      "placeholder": "​",
      "style": "IPY_MODEL_179018071b0a402a9a4f9242a624446a",
      "value": ""
     }
    },
    "df02c0d60d594cbb89199f40dfd74320": {
     "model_module": "@jupyter-widgets/controls",
     "model_module_version": "1.5.0",
     "model_name": "FloatProgressModel",
     "state": {
      "_dom_classes": [],
      "_model_module": "@jupyter-widgets/controls",
      "_model_module_version": "1.5.0",
      "_model_name": "FloatProgressModel",
      "_view_count": null,
      "_view_module": "@jupyter-widgets/controls",
      "_view_module_version": "1.5.0",
      "_view_name": "ProgressView",
      "bar_style": "success",
      "description": "",
      "description_tooltip": null,
      "layout": "IPY_MODEL_c7cd3d6510c04a88a544c5818f95ef5b",
      "max": 28881,
      "min": 0,
      "orientation": "horizontal",
      "style": "IPY_MODEL_79863d9013ed4445820ede817092c2ca",
      "value": 28881
     }
    },
    "eb805a2997184c9b91544aa03efce219": {
     "model_module": "@jupyter-widgets/controls",
     "model_module_version": "1.5.0",
     "model_name": "DescriptionStyleModel",
     "state": {
      "_model_module": "@jupyter-widgets/controls",
      "_model_module_version": "1.5.0",
      "_model_name": "DescriptionStyleModel",
      "_view_count": null,
      "_view_module": "@jupyter-widgets/base",
      "_view_module_version": "1.2.0",
      "_view_name": "StyleView",
      "description_width": ""
     }
    },
    "ec75c62dbad84bcaa63e2370317ee1ff": {
     "model_module": "@jupyter-widgets/base",
     "model_module_version": "1.2.0",
     "model_name": "LayoutModel",
     "state": {
      "_model_module": "@jupyter-widgets/base",
      "_model_module_version": "1.2.0",
      "_model_name": "LayoutModel",
      "_view_count": null,
      "_view_module": "@jupyter-widgets/base",
      "_view_module_version": "1.2.0",
      "_view_name": "LayoutView",
      "align_content": null,
      "align_items": null,
      "align_self": null,
      "border": null,
      "bottom": null,
      "display": null,
      "flex": null,
      "flex_flow": null,
      "grid_area": null,
      "grid_auto_columns": null,
      "grid_auto_flow": null,
      "grid_auto_rows": null,
      "grid_column": null,
      "grid_gap": null,
      "grid_row": null,
      "grid_template_areas": null,
      "grid_template_columns": null,
      "grid_template_rows": null,
      "height": null,
      "justify_content": null,
      "justify_items": null,
      "left": null,
      "margin": null,
      "max_height": null,
      "max_width": null,
      "min_height": null,
      "min_width": null,
      "object_fit": null,
      "object_position": null,
      "order": null,
      "overflow": null,
      "overflow_x": null,
      "overflow_y": null,
      "padding": null,
      "right": null,
      "top": null,
      "visibility": null,
      "width": null
     }
    },
    "f14bcd0c6c1045fab35a304fcc8b4a95": {
     "model_module": "@jupyter-widgets/controls",
     "model_module_version": "1.5.0",
     "model_name": "DescriptionStyleModel",
     "state": {
      "_model_module": "@jupyter-widgets/controls",
      "_model_module_version": "1.5.0",
      "_model_name": "DescriptionStyleModel",
      "_view_count": null,
      "_view_module": "@jupyter-widgets/base",
      "_view_module_version": "1.2.0",
      "_view_name": "StyleView",
      "description_width": ""
     }
    },
    "f5e648d363b445708024243848d09654": {
     "model_module": "@jupyter-widgets/base",
     "model_module_version": "1.2.0",
     "model_name": "LayoutModel",
     "state": {
      "_model_module": "@jupyter-widgets/base",
      "_model_module_version": "1.2.0",
      "_model_name": "LayoutModel",
      "_view_count": null,
      "_view_module": "@jupyter-widgets/base",
      "_view_module_version": "1.2.0",
      "_view_name": "LayoutView",
      "align_content": null,
      "align_items": null,
      "align_self": null,
      "border": null,
      "bottom": null,
      "display": null,
      "flex": null,
      "flex_flow": null,
      "grid_area": null,
      "grid_auto_columns": null,
      "grid_auto_flow": null,
      "grid_auto_rows": null,
      "grid_column": null,
      "grid_gap": null,
      "grid_row": null,
      "grid_template_areas": null,
      "grid_template_columns": null,
      "grid_template_rows": null,
      "height": null,
      "justify_content": null,
      "justify_items": null,
      "left": null,
      "margin": null,
      "max_height": null,
      "max_width": null,
      "min_height": null,
      "min_width": null,
      "object_fit": null,
      "object_position": null,
      "order": null,
      "overflow": null,
      "overflow_x": null,
      "overflow_y": null,
      "padding": null,
      "right": null,
      "top": null,
      "visibility": null,
      "width": null
     }
    },
    "f7b88c5f38f04a70a82004baf104a5cc": {
     "model_module": "@jupyter-widgets/base",
     "model_module_version": "1.2.0",
     "model_name": "LayoutModel",
     "state": {
      "_model_module": "@jupyter-widgets/base",
      "_model_module_version": "1.2.0",
      "_model_name": "LayoutModel",
      "_view_count": null,
      "_view_module": "@jupyter-widgets/base",
      "_view_module_version": "1.2.0",
      "_view_name": "LayoutView",
      "align_content": null,
      "align_items": null,
      "align_self": null,
      "border": null,
      "bottom": null,
      "display": null,
      "flex": null,
      "flex_flow": null,
      "grid_area": null,
      "grid_auto_columns": null,
      "grid_auto_flow": null,
      "grid_auto_rows": null,
      "grid_column": null,
      "grid_gap": null,
      "grid_row": null,
      "grid_template_areas": null,
      "grid_template_columns": null,
      "grid_template_rows": null,
      "height": null,
      "justify_content": null,
      "justify_items": null,
      "left": null,
      "margin": null,
      "max_height": null,
      "max_width": null,
      "min_height": null,
      "min_width": null,
      "object_fit": null,
      "object_position": null,
      "order": null,
      "overflow": null,
      "overflow_x": null,
      "overflow_y": null,
      "padding": null,
      "right": null,
      "top": null,
      "visibility": null,
      "width": null
     }
    }
   }
  }
 },
 "nbformat": 4,
 "nbformat_minor": 1
}
